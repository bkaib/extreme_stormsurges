{
 "cells": [
  {
   "cell_type": "code",
   "execution_count": 1,
   "metadata": {},
   "outputs": [],
   "source": [
    "# Modules\n",
    "import numpy as np\n",
    "import xarray as xr\n",
    "import pandas as pd\n",
    "\n",
    "from data import data_loader\n",
    "from data import gesla_preprocessing\n",
    "from data import era5_preprocessing\n",
    "from data import preprocessing"
   ]
  },
  {
   "cell_type": "code",
   "execution_count": null,
   "metadata": {},
   "outputs": [],
   "source": [
    "# ---\n",
    "# Preprocessing\n",
    "# ---\n",
    "\n",
    "# Get timeseries of predictor and predictand\n",
    "percentile = 0.95\n",
    "predictor = \"sp\"\n",
    "season = \"autumn\"\n",
    "x1, y1, t1 = preprocessing.preprocessing1(season, predictor, percentile)"
   ]
  },
  {
   "cell_type": "code",
   "execution_count": null,
   "metadata": {},
   "outputs": [],
   "source": [
    "#---\n",
    "# Model-Architecture\n",
    "# Maybe choose different predictors within same model architecture?\n",
    "#---\n",
    "\n",
    "# Random Forests\n",
    "#---\n",
    "from models.random_forest import rf001\n",
    "from models.random_forest import rf002\n",
    "\n",
    "predictors = [\"sp\", \"tp\", \"u10\", \"v10\",]\n",
    "percentiles = [0.95, 0.99]\n",
    "\n",
    "for percentile in percentiles:\n",
    "    for predictor in predictors:\n",
    "    # rf001.run(predictor=\"sp\", percentile=percentile) # Only adjusted for SP\n",
    "        rf002.run(predictor, percentile)"
   ]
  },
  {
   "cell_type": "markdown",
   "metadata": {},
   "source": [
    "# Forecast\n"
   ]
  },
  {
   "cell_type": "code",
   "execution_count": null,
   "metadata": {},
   "outputs": [],
   "source": [
    "# Postprocessing"
   ]
  },
  {
   "cell_type": "code",
   "execution_count": null,
   "metadata": {},
   "outputs": [],
   "source": [
    "# Diagnostics"
   ]
  },
  {
   "cell_type": "code",
   "execution_count": null,
   "metadata": {},
   "outputs": [],
   "source": [
    "#---\n",
    "# Visualization\n",
    "#---\n",
    "\n",
    "# Metric: Importance\n",
    "#---\n",
    "from data import preprocessing\n",
    "\n",
    "# Initialize\n",
    "model_run = \"rf002\"\n",
    "predictors = [\"sp\", \"tp\", \"u10\", \"v10\",]\n",
    "percentiles = [0.95, 0.99]\n",
    "range_of_years = \"1999-2008\"\n",
    "subregion = \"lon-0530_lat7040\"\n",
    "season = \"winter\"\n",
    "preprocess = \"preprocess1\"\n",
    "\n",
    "for predictor in predictors:\n",
    "    for percentile in percentiles:\n",
    "        # Load importance\n",
    "        folder = f\"results/random_forest/{model_run}/{predictor}/\"\n",
    "        fname = f\"importances_{predictor}{str(percentile)[-2:]}\"\n",
    "        importance = np.load(f\"{folder}{fname}.npy\")\n",
    "\n",
    "        # Load lat lons\n",
    "        lats, lons = preprocessing.get_lonlats(\n",
    "            range_of_years,\n",
    "            subregion,\n",
    "            season,\n",
    "            predictor,\n",
    "            preprocess,\n",
    "        )\n",
    "\n",
    "        # # Plot importance-map\n",
    "        # from models import evaluation\n",
    "        # tflag = f\"{predictor}{str(percentile)[-2:]}\"\n",
    "        # fig = evaluation.importance_map(importance, lons, lats, tflag=tflag)\n",
    "\n",
    "        # # Save importance-map\n",
    "        # folder = f\"results/random_forest/rf002/{predictor}/\"\n",
    "        # fname = f\"importance_map_{predictor}{str(percentile)[-2:]}\"\n",
    "        # fig.savefig(f\"{folder}{fname}.jpg\")"
   ]
  }
 ],
 "metadata": {
  "interpreter": {
   "hash": "dbda0df39e8d9f08c77def502e386bb54b10e33e74098d5a47640c70cb49662a"
  },
  "kernelspec": {
   "display_name": "Python 3.8.12 ('mlpy38')",
   "language": "python",
   "name": "python3"
  },
  "language_info": {
   "codemirror_mode": {
    "name": "ipython",
    "version": 3
   },
   "file_extension": ".py",
   "mimetype": "text/x-python",
   "name": "python",
   "nbconvert_exporter": "python",
   "pygments_lexer": "ipython3",
   "version": "3.8.12"
  },
  "orig_nbformat": 4
 },
 "nbformat": 4,
 "nbformat_minor": 2
}
