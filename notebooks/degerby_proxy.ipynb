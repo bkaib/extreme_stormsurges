{
 "cells": [
  {
   "cell_type": "markdown",
   "metadata": {},
   "source": [
    "# Degerby Proxy\n",
    "\n",
    "Time series of daily Baltic Sea volume, reconstructed\n",
    "from  observations  of  sea  surface  elevation  at  tide\n",
    "gauge Degerby, are available for 9 yr, i.e. 1980 to 1988\n",
    "(Launiainen & Vihma 1990b). It is well known that sea\n",
    "level  change  in  the  centre  of  the  Baltic  Sea  (e.g.\n",
    "Degerby  or  Landsort)  is  representative  of  volume\n",
    "change,  i.e.  the  mean  sea  level  change  of  the  whole\n",
    "Baltic Sea (e.g. Jacobsen 1980)."
   ]
  },
  {
   "cell_type": "markdown",
   "metadata": {},
   "source": [
    "# About GESLA3\n",
    "\n",
    "We converted height units to metres, the time zone of each record was adjusted to Coordinated Universal Time (UTC).\n",
    "\n",
    "We did not adjust the frequency of the station records, which in all cases was at least hourly, although several sources have data at higher-frequency (15, 10 or 6 minutes)\n",
    "\n",
    "We use total water levels from the GESLA-2 \n",
    "dataset (Tiggeloven 2021)"
   ]
  },
  {
   "cell_type": "code",
   "execution_count": 1,
   "metadata": {},
   "outputs": [],
   "source": [
    "from gesla import GeslaDataset\n",
    "\n",
    "meta_file = \"resources/gesla/GESLA3_ALL.csv\"\n",
    "data_path = \"resources/gesla/GESLA3.0_ALL.zip\"\n",
    "\n",
    "g3 = GeslaDataset(meta_file=meta_file, data_path=data_path)"
   ]
  },
  {
   "cell_type": "code",
   "execution_count": 4,
   "metadata": {},
   "outputs": [
    {
     "data": {
      "text/html": [
       "<div>\n",
       "<style scoped>\n",
       "    .dataframe tbody tr th:only-of-type {\n",
       "        vertical-align: middle;\n",
       "    }\n",
       "\n",
       "    .dataframe tbody tr th {\n",
       "        vertical-align: top;\n",
       "    }\n",
       "\n",
       "    .dataframe thead th {\n",
       "        text-align: right;\n",
       "    }\n",
       "</style>\n",
       "<table border=\"1\" class=\"dataframe\">\n",
       "  <thead>\n",
       "    <tr style=\"text-align: right;\">\n",
       "      <th></th>\n",
       "      <th>sea_level</th>\n",
       "      <th>qc_flag</th>\n",
       "      <th>use_flag</th>\n",
       "    </tr>\n",
       "    <tr>\n",
       "      <th>date_time</th>\n",
       "      <th></th>\n",
       "      <th></th>\n",
       "      <th></th>\n",
       "    </tr>\n",
       "  </thead>\n",
       "  <tbody>\n",
       "    <tr>\n",
       "      <th>2011-01-27 16:00:00</th>\n",
       "      <td>-0.16</td>\n",
       "      <td>1</td>\n",
       "      <td>1</td>\n",
       "    </tr>\n",
       "    <tr>\n",
       "      <th>2011-01-27 16:15:00</th>\n",
       "      <td>-0.16</td>\n",
       "      <td>1</td>\n",
       "      <td>1</td>\n",
       "    </tr>\n",
       "    <tr>\n",
       "      <th>2011-01-27 16:30:00</th>\n",
       "      <td>-0.17</td>\n",
       "      <td>1</td>\n",
       "      <td>1</td>\n",
       "    </tr>\n",
       "    <tr>\n",
       "      <th>2011-01-27 16:45:00</th>\n",
       "      <td>-0.17</td>\n",
       "      <td>1</td>\n",
       "      <td>1</td>\n",
       "    </tr>\n",
       "    <tr>\n",
       "      <th>2011-01-27 17:00:00</th>\n",
       "      <td>-0.17</td>\n",
       "      <td>1</td>\n",
       "      <td>1</td>\n",
       "    </tr>\n",
       "    <tr>\n",
       "      <th>...</th>\n",
       "      <td>...</td>\n",
       "      <td>...</td>\n",
       "      <td>...</td>\n",
       "    </tr>\n",
       "    <tr>\n",
       "      <th>2020-12-17 06:30:00</th>\n",
       "      <td>-0.15</td>\n",
       "      <td>1</td>\n",
       "      <td>1</td>\n",
       "    </tr>\n",
       "    <tr>\n",
       "      <th>2020-12-17 06:45:00</th>\n",
       "      <td>-0.15</td>\n",
       "      <td>1</td>\n",
       "      <td>1</td>\n",
       "    </tr>\n",
       "    <tr>\n",
       "      <th>2020-12-17 07:00:00</th>\n",
       "      <td>-0.16</td>\n",
       "      <td>1</td>\n",
       "      <td>1</td>\n",
       "    </tr>\n",
       "    <tr>\n",
       "      <th>2020-12-17 07:15:00</th>\n",
       "      <td>-0.17</td>\n",
       "      <td>1</td>\n",
       "      <td>1</td>\n",
       "    </tr>\n",
       "    <tr>\n",
       "      <th>2020-12-17 07:30:00</th>\n",
       "      <td>-0.19</td>\n",
       "      <td>1</td>\n",
       "      <td>1</td>\n",
       "    </tr>\n",
       "  </tbody>\n",
       "</table>\n",
       "<p>339102 rows × 3 columns</p>\n",
       "</div>"
      ],
      "text/plain": [
       "                     sea_level  qc_flag  use_flag\n",
       "date_time                                        \n",
       "2011-01-27 16:00:00      -0.16        1         1\n",
       "2011-01-27 16:15:00      -0.16        1         1\n",
       "2011-01-27 16:30:00      -0.17        1         1\n",
       "2011-01-27 16:45:00      -0.17        1         1\n",
       "2011-01-27 17:00:00      -0.17        1         1\n",
       "...                        ...      ...       ...\n",
       "2020-12-17 06:30:00      -0.15        1         1\n",
       "2020-12-17 06:45:00      -0.15        1         1\n",
       "2020-12-17 07:00:00      -0.16        1         1\n",
       "2020-12-17 07:15:00      -0.17        1         1\n",
       "2020-12-17 07:30:00      -0.19        1         1\n",
       "\n",
       "[339102 rows x 3 columns]"
      ]
     },
     "execution_count": 4,
     "metadata": {},
     "output_type": "execute_result"
    }
   ],
   "source": [
    "filenames = ['warnemuende-war-deu-cmems', \n",
    "'wismar-wis-deu-cmems',\n",
    "'degerby-deg-fin-cmems',\n",
    "]\n",
    "\n",
    "df, meta = g3.file_to_pandas(filenames[1])\n",
    "df"
   ]
  },
  {
   "cell_type": "markdown",
   "metadata": {},
   "source": [
    "# Preprocessing"
   ]
  },
  {
   "cell_type": "code",
   "execution_count": 7,
   "metadata": {},
   "outputs": [],
   "source": [
    "import numpy as np\n",
    "import importlib\n",
    "from data import preprocessing"
   ]
  },
  {
   "cell_type": "code",
   "execution_count": 15,
   "metadata": {},
   "outputs": [
    {
     "name": "stdout",
     "output_type": "stream",
     "text": [
      "-0.06358931720240288\n",
      "max:1.75, min: -1.61\n"
     ]
    }
   ],
   "source": [
    "df_use = df.query('use_flag == 1') # Only use data that is labeled for analysis by GESLA doc\n",
    "sl = df_use['sea_level'].values\n",
    "mean_sl = df_use['sea_level'].mean()\n",
    "print(mean_sl)\n",
    "print(f'max:{max(sl)}, min: {min(sl)}')"
   ]
  }
 ],
 "metadata": {
  "interpreter": {
   "hash": "4b2458d0610a23fbd5c707a25149dc9218000ef165f906d82c15727d18cbe22b"
  },
  "kernelspec": {
   "display_name": "Python 3.8.5 64-bit ('base': conda)",
   "name": "python3"
  },
  "language_info": {
   "codemirror_mode": {
    "name": "ipython",
    "version": 3
   },
   "file_extension": ".py",
   "mimetype": "text/x-python",
   "name": "python",
   "nbconvert_exporter": "python",
   "pygments_lexer": "ipython3",
   "version": "3.8.12"
  },
  "orig_nbformat": 4
 },
 "nbformat": 4,
 "nbformat_minor": 2
}
