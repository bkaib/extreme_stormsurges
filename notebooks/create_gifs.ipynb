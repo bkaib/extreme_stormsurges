{
 "cells": [
  {
   "cell_type": "code",
   "execution_count": 1,
   "metadata": {},
   "outputs": [],
   "source": [
    "# Modules\n",
    "import numpy as np\n",
    "import xarray as xr\n",
    "import pandas as pd\n",
    "\n",
    "from data import data_loader\n",
    "from data import gesla_preprocessing\n",
    "from data import era5_preprocessing\n",
    "from data import preprocessing"
   ]
  },
  {
   "cell_type": "code",
   "execution_count": null,
   "metadata": {},
   "outputs": [],
   "source": [
    "#---\n",
    "# Visualisation\n",
    "#---\n",
    "\n",
    "# Create a gif for predictor values within a time range of storm surges\n",
    "from data import visualisation\n",
    "import numpy as np\n",
    "\n",
    "station = 0\n",
    "range_of_years = \"1999-2008\"\n",
    "subregion = \"lon-0530_lat7040\"\n",
    "preprocess = \"preprocess1\"\n",
    "\n",
    "lats, lons = preprocessing.get_lonlats(\n",
    "    range_of_years,\n",
    "    subregion,\n",
    "    season,\n",
    "    predictor,\n",
    "    preprocess,\n",
    ")\n",
    "\n",
    "figures = []\n",
    "vmin = np.min(X)\n",
    "vmax = np.max(X)\n",
    "\n",
    "for t1 in np.arange(50, 90, 1):\n",
    "    x = X[t1, :, :].flatten()\n",
    "    fig = visualisation.map(x, lons, lats, tflag=f\"{predictor}, t = {t1}, sts = {Y[t1, station]}\", vmin=vmin, vmax=vmax,)\n",
    "    # fig.canvas.draw()       # draw the canvas, cache the renderer\n",
    "    # image = np.frombuffer(fig.canvas.tostring_rgb(), dtype='uint8')\n",
    "    # image  = image.reshape(fig.canvas.get_width_height()[::-1] + (3,))\n",
    "\n",
    "    figures.append(fig)\n",
    "\n",
    "# Create a gif\n",
    "path = f\"./{predictor}\"\n",
    "visualisation.create_gif(figures, path, fps=1)"
   ]
  }
 ],
 "metadata": {
  "interpreter": {
   "hash": "dbda0df39e8d9f08c77def502e386bb54b10e33e74098d5a47640c70cb49662a"
  },
  "kernelspec": {
   "display_name": "Python 3.8.12 ('mlpy38')",
   "language": "python",
   "name": "python3"
  },
  "language_info": {
   "codemirror_mode": {
    "name": "ipython",
    "version": 3
   },
   "file_extension": ".py",
   "mimetype": "text/x-python",
   "name": "python",
   "nbconvert_exporter": "python",
   "pygments_lexer": "ipython3",
   "version": "3.8.12"
  },
  "orig_nbformat": 4
 },
 "nbformat": 4,
 "nbformat_minor": 2
}
