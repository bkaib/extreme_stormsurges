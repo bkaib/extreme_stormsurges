{
 "cells": [
  {
   "cell_type": "code",
   "execution_count": 1,
   "metadata": {},
   "outputs": [],
   "source": [
    "# Modules\n",
    "import numpy as np\n",
    "import xarray as xr\n",
    "import pandas as pd\n",
    "\n",
    "from data import data_loader\n",
    "from data import gesla_preprocessing\n",
    "from data import era5_preprocessing\n",
    "from data import preprocessing"
   ]
  },
  {
   "cell_type": "markdown",
   "metadata": {},
   "source": [
    "# Description\n",
    "\n",
    "1. rf006 combine timelags of one predictor <br>\n",
    "\n"
   ]
  },
  {
   "cell_type": "markdown",
   "metadata": {},
   "source": [
    "# Working Area"
   ]
  },
  {
   "cell_type": "markdown",
   "metadata": {},
   "source": [
    "# Modularized Preprocessing"
   ]
  },
  {
   "cell_type": "code",
   "execution_count": 3,
   "metadata": {},
   "outputs": [],
   "source": [
    "#---\n",
    "# Modularize Preprocessing\n",
    "#---\n",
    "\n",
    "# Get timeseries of predictor and predictand\n",
    "season = \"winter\" # [\"winter\", \"autumn\",] \n",
    "predictors = [\"sp\", \"tp\", \"u10\", \"v10\",]\n",
    "percentile = 0.95 # [0.95, 0.99,] \n",
    "preprocess = \"preprocess1\" # [\"preprocess1\"]\n",
    "range_of_years = \"1999-2008\" # [\"1999-2008\", \"2009-2018\", \"2019-2022\",]\n",
    "subregion = \"lon-0530_lat7040\" # [\"lon-0530_lat7040\"]\n",
    "station_names = [\"hanko-han-fin-cmems\",]"
   ]
  },
  {
   "cell_type": "code",
   "execution_count": 4,
   "metadata": {},
   "outputs": [
    {
     "data": {
      "text/plain": [
       "(903, 121, 141)"
      ]
     },
     "execution_count": 4,
     "metadata": {},
     "output_type": "execute_result"
    }
   ],
   "source": [
    "# Load already preprocessed Era5 Data\n",
    "# Preprocessing done with cdo\n",
    "#---\n",
    "predictor = predictors[0]\n",
    "era5_predictor = data_loader.load_daymean_era5(range_of_years, subregion, season, predictor, preprocess)\n",
    "\n",
    "era5_predictor.shape"
   ]
  },
  {
   "cell_type": "code",
   "execution_count": 5,
   "metadata": {},
   "outputs": [
    {
     "name": "stdout",
     "output_type": "stream",
     "text": [
      "Load Predictand from GESLA\n",
      "Applied one-hot-encoding with Percentile: 0.95\n"
     ]
    }
   ],
   "source": [
    "#---\n",
    "# Preprocess GESLA Data\n",
    "#---\n",
    "\n",
    "# Load Predictand\n",
    "#---\n",
    "gesla_predictand = data_loader.load_gesla(station_names)\n",
    "\n",
    "# Select a season\n",
    "#---\n",
    "gesla_predictand = gesla_preprocessing.select_season(gesla_predictand, season)\n",
    "\n",
    "# Select only sea_level analysis data\n",
    "#---\n",
    "gesla_predictand = gesla_preprocessing.get_analysis(gesla_predictand)\n",
    "\n",
    "# Subtract mean of data grouped by station\n",
    "#---\n",
    "gesla_predictand = gesla_predictand[\"sea_level\"] # Detrend expects pd.Series\n",
    "gesla_predictand = gesla_preprocessing.detrend(gesla_predictand, level=\"station\")\n",
    "\n",
    "# Apply one hot encoding\n",
    "gesla_predictand = gesla_preprocessing.apply_dummies(gesla_predictand, percentile=percentile, level=\"station\")\n",
    "print(f\"Applied one-hot-encoding with Percentile: {percentile}\")\n",
    "\n",
    "# Convert to DataArray\n",
    "# nan values: no measurement at that timestamp for specific station\n",
    "gesla_predictand = gesla_predictand.to_xarray()"
   ]
  },
  {
   "cell_type": "code",
   "execution_count": 6,
   "metadata": {},
   "outputs": [
    {
     "name": "stdout",
     "output_type": "stream",
     "text": [
      "Get overlapping timeseries of ERA5 and GESLA\n",
      "X: (903, 121, 141)\n",
      "Y: (903, 1)\n",
      "t: (903,)\n"
     ]
    }
   ],
   "source": [
    "#---\n",
    "# Get overlapping time-series\n",
    "#---\n",
    "X, Y, t = preprocessing.intersect_time(era5_predictor, gesla_predictand)\n",
    "\n",
    "print(f\"X: {X.shape}\")\n",
    "print(f\"Y: {Y.shape}\")\n",
    "print(f\"t: {t.shape}\")"
   ]
  },
  {
   "cell_type": "code",
   "execution_count": 16,
   "metadata": {},
   "outputs": [],
   "source": [
    "# Initialize timelags\n",
    "#---\n",
    "def combine_timelags(X, Y, timelags):\n",
    "    \"\"\"\n",
    "    Description:\n",
    "        Returns combined timelagged predictor data X_timelag for predictand Y_timelag.\n",
    "        Shifts predictand data Y according to the maximum timelag given in timelags.\n",
    "        Note: Input data X, Y needs to be on the same time-interval (see preprocessing.intersect_time)\n",
    "        \n",
    "    Parameters:\n",
    "        X (np.array, float): Predictor values as a field time series. Shape:(n_labels, lat, lon)\n",
    "        Y (np.array, float): Predictand at selected stations. Shape:(n_labels, stations)\n",
    "\n",
    "    Returns:\n",
    "        X_timelag (np.array, float): Combined timelagged Predictor values in increasing order of timelags, e.g. t=0, t=1,..., Shape:(timelag, n_labels, lat, lon)\n",
    "        Y_timelag (np.array, float): Timelagged Predictand at selected stations. Shape:(n_labels, stations)\n",
    "    \"\"\"\n",
    "\n",
    "    # Initialize\n",
    "    #---\n",
    "    timelags.sort()\n",
    "    max_timelag = max(timelags)\n",
    "\n",
    "    # Get timelagged Predictand \n",
    "    #---\n",
    "    Y_timelag = Y[max_timelag:]\n",
    "\n",
    "    # Get timelagged predictors\n",
    "    #---\n",
    "    X_timelag = []\n",
    "\n",
    "    for timelag_ in timelags:\n",
    "\n",
    "        assert timelag_ >= 0, f\"Timelag = {timelag_} needs to be a positive integer\"\n",
    "\n",
    "        idx = max_timelag - timelag_\n",
    "\n",
    "        if timelag_ > 0:\n",
    "            X_tmp = X[idx : - timelag_]\n",
    "        if timelag_ == 0: \n",
    "            X_tmp = X[idx:]\n",
    "\n",
    "        X_timelag.append(X_tmp)\n",
    "\n",
    "    X_timelag = np.array(X_timelag)\n",
    "\n",
    "    return X_timelag, Y_timelag"
   ]
  },
  {
   "cell_type": "code",
   "execution_count": 18,
   "metadata": {},
   "outputs": [
    {
     "data": {
      "text/plain": [
       "(4, 898, 121, 141)"
      ]
     },
     "execution_count": 18,
     "metadata": {},
     "output_type": "execute_result"
    }
   ],
   "source": [
    "timelags = [0, 1, 2, 5]\n",
    "X_timelag, Y_timelag = combine_timelags(X, Y, timelags)\n",
    "X_timelag.shape"
   ]
  },
  {
   "cell_type": "code",
   "execution_count": 19,
   "metadata": {},
   "outputs": [
    {
     "name": "stdout",
     "output_type": "stream",
     "text": [
      "(898, 68244)\n",
      "(898,)\n"
     ]
    }
   ],
   "source": [
    "# Reshape for model input\n",
    "#---\n",
    "ndim = Y_timelag.shape[0]\n",
    "nlat = X_timelag.shape[2]\n",
    "nlon = X_timelag.shape[3]\n",
    "\n",
    "X_timelag = X_timelag.swapaxes(0, 1)\n",
    "X_timelag = X_timelag.reshape(ndim, -1)\n",
    "\n",
    "y_timelag = Y_timelag[:, 0] # Select one station\n",
    "print(X_timelag.shape)\n",
    "print(y_timelag.shape)"
   ]
  },
  {
   "cell_type": "code",
   "execution_count": 20,
   "metadata": {},
   "outputs": [],
   "source": [
    "#---\n",
    "# Handle NaN Values\n",
    "#---\n",
    "\n",
    "# Insert numerical value that is not in data.\n",
    "# ML will hopefully recognize it.\n",
    "X_timelag[np.where(np.isnan(X_timelag))] = -999"
   ]
  },
  {
   "cell_type": "code",
   "execution_count": null,
   "metadata": {},
   "outputs": [],
   "source": [
    "# Modelfit as before (see rf005)\n",
    "# Evaluation as before (see rf005)"
   ]
  },
  {
   "cell_type": "markdown",
   "metadata": {},
   "source": [
    "# Main run"
   ]
  },
  {
   "cell_type": "code",
   "execution_count": 2,
   "metadata": {},
   "outputs": [
    {
     "name": "stdout",
     "output_type": "stream",
     "text": [
      "Starting run for sp and timelags = [0, 2, 7]\n",
      "Load Predictand from GESLA\n",
      "Applied one-hot-encoding with Percentile: 0.95\n",
      "Get overlapping timeseries of ERA5 and GESLA\n",
      "X: (903, 121, 141)\n",
      "Y: (903, 1)\n",
      "Data is prepared as follows\n",
      "X.shape : (896, 51183)\n",
      "y.shape : (896,)\n",
      "Start Model Training\n",
      "Do Train-Test-Split\n",
      "Optimize Hyperparameters\n",
      "Tested Hyperparameters: {'n_estimators': [0, 111, 222, 333, 444, 555, 666, 777, 888, 1000], 'max_depth': [5, 17, 30, 42, 55, None], 'min_samples_split': [2, 5, 10], 'min_samples_leaf': [1, 2, 4]}\n",
      "Optimize Hyperparameters using RandomSearchCV\n",
      "Fitting 3 folds for each of 100 candidates, totalling 300 fits\n"
     ]
    }
   ],
   "source": [
    "#---\n",
    "# Main\n",
    "#---\n",
    "from models.random_forest.rf006 import run\n",
    "\n",
    "season = \"winter\" # [\"winter\", \"autumn\",] \n",
    "percentile = 0.95 # [0.95, 0.99,] \n",
    "station_names = [\"hanko-han-fin-cmems\",]\n",
    "predictors = [\"sp\", \"tp\", \"u10\", \"v10\",]\n",
    "timelags_lst = [ # List of all combination of timelags applied to all predictors\n",
    "    [0, 2, 7,],\n",
    "    [1, 3,],\n",
    "    [2, 3,],\n",
    "    [3, 4,],   \n",
    "    [2, 4, 6,], \n",
    "    [2, 3, 4, 5,],\n",
    "]\n",
    "model_run = \"rf006\"\n",
    "\n",
    "run_id = 0\n",
    "for predictor in predictors:\n",
    "    for timelags in timelags_lst:\n",
    "        print(f\"Starting run for {predictor} and timelags = {timelags}\")\n",
    "        run(season, predictor, timelags, percentile, station_names, run_id, model_run)\n",
    "        print(f\"Ended run for {predictor} and timelags = {timelags}\")\n",
    "        \n",
    "        run_id = run_id + 1"
   ]
  },
  {
   "cell_type": "code",
   "execution_count": null,
   "metadata": {},
   "outputs": [],
   "source": []
  }
 ],
 "metadata": {
  "interpreter": {
   "hash": "dbda0df39e8d9f08c77def502e386bb54b10e33e74098d5a47640c70cb49662a"
  },
  "kernelspec": {
   "display_name": "Python 3.8.12 ('mlpy38')",
   "language": "python",
   "name": "python3"
  },
  "language_info": {
   "codemirror_mode": {
    "name": "ipython",
    "version": 3
   },
   "file_extension": ".py",
   "mimetype": "text/x-python",
   "name": "python",
   "nbconvert_exporter": "python",
   "pygments_lexer": "ipython3",
   "version": "3.8.12"
  },
  "orig_nbformat": 4
 },
 "nbformat": 4,
 "nbformat_minor": 2
}
