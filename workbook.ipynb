{
 "cells": [
  {
   "cell_type": "code",
   "execution_count": 1,
   "metadata": {},
   "outputs": [],
   "source": [
    "# Modules\n",
    "import numpy as np\n",
    "import xarray as xr\n",
    "import pandas as pd\n",
    "\n",
    "from data import data_loader\n",
    "from data import gesla_preprocessing\n",
    "from data import era5_preprocessing\n",
    "from data import preprocessing"
   ]
  },
  {
   "cell_type": "code",
   "execution_count": 2,
   "metadata": {},
   "outputs": [
    {
     "name": "stdout",
     "output_type": "stream",
     "text": [
      "Load ERA5-Predictor: sp in region: lon-0530_lat7040 for years: 1999-2008 in season: winter\n",
      "Load Predictand from GESLA\n",
      "Applied one-hot-encoding\n",
      "Get overlapping timeseries of ERA5 and GESLA\n"
     ]
    }
   ],
   "source": [
    "# ---\n",
    "# Preprocessing\n",
    "# ---\n",
    "\n",
    "# Get timeseries of predictor and predictand\n",
    "percentile = 0.95\n",
    "predictor = \"sp\"\n",
    "season = \"winter\"\n",
    "\n",
    "X, Y, t = preprocessing.preprocessing1(season, predictor, percentile)\n",
    "\n",
    "# Handle NaN values: \n",
    "# Insert numerical value that is not in data.\n",
    "# ML will hopefully recognize it.\n",
    "X[np.where(np.isnan(X))] = -999\n",
    "\n",
    "# Save number of lat/lon for interpreting model output later\n",
    "ndim = X.shape[0]\n",
    "nlat = X.shape[1]\n",
    "nlon = X.shape[2]\n",
    "\n",
    "# Prepare shape for model\n",
    "X = X.reshape(ndim, -1) # (ndim, nclasses)\n",
    "y = Y[:, 0] # Select only one station"
   ]
  },
  {
   "cell_type": "code",
   "execution_count": 3,
   "metadata": {},
   "outputs": [
    {
     "data": {
      "text/plain": [
       "RandomForestClassifier(class_weight='balanced', max_depth=9, n_estimators=91,\n",
       "                       oob_score=True, random_state=0)"
      ]
     },
     "execution_count": 3,
     "metadata": {},
     "output_type": "execute_result"
    }
   ],
   "source": [
    "#---\n",
    "# Train Model\n",
    "#---\n",
    "from sklearn.model_selection import train_test_split\n",
    "from sklearn.ensemble import RandomForestClassifier\n",
    "\n",
    "# Train-Test Split\n",
    "X_train, X_test, y_train, y_test = train_test_split(X, y, random_state=0, test_size=0.25)\n",
    "\n",
    "# Setup Model\n",
    "\n",
    "model = RandomForestClassifier(criterion='gini',\n",
    "n_estimators=91, #- nTrees \n",
    "max_depth=9, \n",
    "random_state=0, # To compare results when changing hyperparameters\n",
    "class_weight=\"balanced\",\n",
    "oob_score=True,\n",
    ")\n",
    "\n",
    "model.fit(X_train, y_train)"
   ]
  },
  {
   "cell_type": "code",
   "execution_count": 4,
   "metadata": {},
   "outputs": [
    {
     "name": "stdout",
     "output_type": "stream",
     "text": [
      "test_score: 0.8982300884955752\n",
      "train_score: 0.9556868537666174\n",
      "importances: [0.00000000e+00 1.72891519e-04 2.81572627e-20 ... 4.34961487e-04\n",
      " 0.00000000e+00 0.00000000e+00]\n"
     ]
    }
   ],
   "source": [
    "#---\n",
    "# Evaluate model / Diagnostic\n",
    "#--- \n",
    "# Score & Importance\n",
    "test_score = model.score(X_test, y_test)\n",
    "train_score = model.score(X_train, y_train)\n",
    "importances = model.feature_importances_\n",
    "\n",
    "print(f\"test_score: {test_score}\")\n",
    "print(f\"train_score: {train_score}\")\n",
    "print(f\"importances: {importances}\")"
   ]
  },
  {
   "cell_type": "code",
   "execution_count": 5,
   "metadata": {},
   "outputs": [
    {
     "data": {
      "image/png": "[encoded data removed]",
      "text/plain": [
       "<Figure size 432x288 with 2 Axes>"
      ]
     },
     "metadata": {
      "needs_background": "light"
     },
     "output_type": "display_data"
    }
   ],
   "source": [
    "%matplotlib inline\n",
    "#---\n",
    "#  Diagnostics\n",
    "#---\n",
    "\n",
    "# Confusion matrix\n",
    "#---\n",
    "# Format: \n",
    "# Reality / Model: Negative, Positive\n",
    "# Negative    Right Negative, False Positive \n",
    "# Positive    False Negative, Right Positive\n",
    "\n",
    "from sklearn.metrics import confusion_matrix\n",
    "from models.evaluation import plot_cf\n",
    "\n",
    "y_test_pred = model.predict(X_test)\n",
    "\n",
    "cf_matrix = confusion_matrix(y_test, y_test_pred)\n",
    "\n",
    "cfm_fig = plot_cf(cf_matrix)\n",
    "\n",
    "# folder = \"results/\"\n",
    "# fname = f\"{folder}cf_matrix.png\"\n",
    "# cfm_fig.savefig(fname)"
   ]
  },
  {
   "cell_type": "code",
   "execution_count": 6,
   "metadata": {},
   "outputs": [
    {
     "name": "stdout",
     "output_type": "stream",
     "text": [
      "AUC: 0.8767722737615964\n"
     ]
    },
    {
     "data": {
      "image/png": "[encoded data removed]",
      "text/plain": [
       "<Figure size 432x288 with 1 Axes>"
      ]
     },
     "metadata": {
      "needs_background": "light"
     },
     "output_type": "display_data"
    }
   ],
   "source": [
    "# AUROC\n",
    "# Receiver Operating Characteristics & Area Under the Curve\n",
    "#---\n",
    "from sklearn.metrics import roc_curve, roc_auc_score\n",
    "import matplotlib.pyplot as plt\n",
    "\n",
    "y_test_proba = model.predict_proba(X_test)[:, 1] # Prob. for predicting 0 or 1, we only need second col\n",
    "\n",
    "fpr, tpr, thresholds = roc_curve(y_test, y_test_proba)\n",
    "auc = roc_auc_score(y_test, y_test_proba)\n",
    "\n",
    "print(f'AUC: {auc}')\n",
    "\n",
    "fig, ax = plt.subplots()\n",
    "\n",
    "plt.plot(fpr, tpr)\n",
    "plt.title(f\"AUROC with AUC = {auc}\")\n",
    "plt.show()"
   ]
  },
  {
   "cell_type": "code",
   "execution_count": 34,
   "metadata": {},
   "outputs": [],
   "source": [
    "#---\n",
    "# Optimization: Hyperparameters with Validation Curve\n",
    "#---\n",
    "\n",
    "# Train-Test Split\n",
    "from sklearn.ensemble import RandomForestClassifier\n",
    "\n",
    "X_train, X_test, y_train, y_test = train_test_split(X, y, random_state=0, test_size=0.25)\n",
    "\n",
    "from sklearn.model_selection import validation_curve\n",
    "import numpy as np \n",
    "\n",
    "param_range = np.arange(0, 10, 1)\n",
    "param_name = 'min_samples_leaf'\n",
    "\n",
    "train_scores, test_scores = validation_curve(\n",
    "    estimator=RandomForestClassifier(criterion=\"gini\",\n",
    "    class_weight=\"balanced\",\n",
    "    oob_score=True,\n",
    "    ),\n",
    "    X=X_train,\n",
    "    y=y_train,\n",
    "    param_name=param_name, #- varying for this parameter\n",
    "    param_range=param_range, #- for this parameters\n",
    "    cv=3, \n",
    ")\n"
   ]
  },
  {
   "cell_type": "code",
   "execution_count": 35,
   "metadata": {},
   "outputs": [
    {
     "name": "stderr",
     "output_type": "stream",
     "text": [
      "C:\\Users\\Kai\\AppData\\Local\\Temp\\ipykernel_16108\\2274057544.py:11: UserWarning: Matplotlib is currently using module://matplotlib_inline.backend_inline, which is a non-GUI backend, so cannot show the figure.\n",
      "  fig.show()\n"
     ]
    },
    {
     "data": {
      "image/png": "[encoded data removed]",
      "text/plain": [
       "<Figure size 432x288 with 1 Axes>"
      ]
     },
     "metadata": {
      "needs_background": "light"
     },
     "output_type": "display_data"
    }
   ],
   "source": [
    "%matplotlib inline\n",
    "import matplotlib.pyplot as plt\n",
    "\n",
    "fig, ax = plt.subplots(tight_layout=True)\n",
    "\n",
    "ax.plot(param_range, np.mean(train_scores, axis=1), label='train')\n",
    "ax.plot(param_range, np.mean(test_scores, axis=1), label='test-cv')\n",
    "ax.set_title(f\"Validation Curve for: {param_name}\")\n",
    "ax.legend()\n",
    "\n",
    "fig.show()"
   ]
  },
  {
   "cell_type": "code",
   "execution_count": 36,
   "metadata": {},
   "outputs": [],
   "source": [
    "folder = \"results/random_forest/rf001/\"\n",
    "fname = f\"vc_{param_name}\"\n",
    "fig.savefig(f\"{folder}{fname}.jpg\")"
   ]
  },
  {
   "cell_type": "code",
   "execution_count": 16,
   "metadata": {},
   "outputs": [
    {
     "name": "stdout",
     "output_type": "stream",
     "text": [
      "{'rf__max_depth': 9, 'rf__n_estimators': 91}\n",
      "0.8982300884955752\n",
      "0.8404793028322441\n"
     ]
    }
   ],
   "source": [
    "#---\n",
    "# Optimization: Hyperparameters with GridSearch\n",
    "#---\n",
    "\n",
    "# Build Pipeline\n",
    "#---\n",
    "from sklearn.pipeline import Pipeline\n",
    "\n",
    "max_depth = 9\n",
    "\n",
    "pipeline = Pipeline([\n",
    "    (\"rf\", RandomForestClassifier(criterion='gini',\n",
    "n_estimators=91, #- nTrees \n",
    "max_depth=max_depth, \n",
    "random_state=0, # To compare results when changing hyperparameters\n",
    "class_weight=\"balanced\",\n",
    "oob_score=True,)),\n",
    "])\n",
    "\n",
    "# pipeline.set_params(knn__n_neighbors = 1) # To change parameters\n",
    "\n",
    "# Apply GridSearch\n",
    "#---\n",
    "from sklearn.model_selection import GridSearchCV\n",
    "\n",
    "clf = GridSearchCV(pipeline, param_grid = {\n",
    "    \"rf__max_depth\": np.arange(1, 10),\n",
    "    \"rf__n_estimators\": np.arange(90, 100),\n",
    "})\n",
    "\n",
    "clf.fit(X_train, y_train)\n",
    "\n",
    "# Display params\n",
    "#---\n",
    "print(clf.best_params_)\n",
    "\n",
    "print(clf.score(X_test, y_test)) # Accuracy on basis of test data\n",
    "\n",
    "print(clf.best_score_) # Accuracy based on k-fold cross-validation"
   ]
  },
  {
   "cell_type": "code",
   "execution_count": null,
   "metadata": {},
   "outputs": [
    {
     "name": "stdout",
     "output_type": "stream",
     "text": [
      "Import Modules\n",
      "\n",
      "Description \n",
      "\n",
      "Model: Random Forest\n",
      "Predictand: Classification (0,1)\n",
      "Percentile Predictand: 0.95\n",
      "Predictors: sp \n",
      "Seaon: winter\n",
      "Preprocessing: preprocessing1\n",
      "Start Preprocessing of Data\n",
      "\n",
      "\n",
      "Load ERA5-Predictor: sp in region: lon-0530_lat7040 for years: 1999-2008 in season: winter\n",
      "Load Predictand from GESLA\n",
      "Applied one-hot-encoding\n",
      "Get overlapping timeseries of ERA5 and GESLA\n",
      "Start model training\n",
      "\n",
      "Evaluate Model \n",
      "\n",
      "test_score: 0.8982300884955752\n",
      "train_score: 0.9556868537666174\n",
      "importances: [0.00000000e+00 1.72891519e-04 2.81572627e-20 ... 4.34961487e-04\n",
      " 0.00000000e+00 0.00000000e+00]\n",
      "Show Confusion Matrix \n",
      "\n"
     ]
    },
    {
     "name": "stderr",
     "output_type": "stream",
     "text": [
      "d:\\OneDrive\\Alle_Ordner\\Coding\\Python\\master_thesis\\models\\random_forest\\rf001.py:100: UserWarning: Matplotlib is currently using module://matplotlib_inline.backend_inline, which is a non-GUI backend, so cannot show the figure.\n",
      "  cfm_fig.show()\n"
     ]
    },
    {
     "name": "stdout",
     "output_type": "stream",
     "text": [
      "Show AUROC \n",
      "\n",
      "AUC: 0.8767722737615964\n"
     ]
    },
    {
     "data": {
      "image/png": "[encoded data removed]",
      "text/plain": [
       "<Figure size 432x288 with 2 Axes>"
      ]
     },
     "metadata": {},
     "output_type": "display_data"
    },
    {
     "data": {
      "image/png": "[encoded data removed]",
      "text/plain": [
       "<Figure size 432x288 with 1 Axes>"
      ]
     },
     "metadata": {},
     "output_type": "display_data"
    },
    {
     "name": "stdout",
     "output_type": "stream",
     "text": [
      "End of Model run\n"
     ]
    }
   ],
   "source": [
    "#---\n",
    "# Execute a whole experiment\n",
    "#---\n",
    "from models.random_forest import rf001\n",
    "\n",
    "rf001.run()"
   ]
  },
  {
   "cell_type": "code",
   "execution_count": null,
   "metadata": {},
   "outputs": [],
   "source": [
    "# Postprocessing"
   ]
  },
  {
   "cell_type": "code",
   "execution_count": null,
   "metadata": {},
   "outputs": [],
   "source": [
    "# Visualization"
   ]
  }
 ],
 "metadata": {
  "interpreter": {
   "hash": "dbda0df39e8d9f08c77def502e386bb54b10e33e74098d5a47640c70cb49662a"
  },
  "kernelspec": {
   "display_name": "Python 3.8.12 ('mlpy38')",
   "language": "python",
   "name": "python3"
  },
  "language_info": {
   "codemirror_mode": {
    "name": "ipython",
    "version": 3
   },
   "file_extension": ".py",
   "mimetype": "text/x-python",
   "name": "python",
   "nbconvert_exporter": "python",
   "pygments_lexer": "ipython3",
   "version": "3.8.12"
  },
  "orig_nbformat": 4
 },
 "nbformat": 4,
 "nbformat_minor": 2
}
