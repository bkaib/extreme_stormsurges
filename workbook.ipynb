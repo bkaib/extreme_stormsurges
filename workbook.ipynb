{
 "cells": [
  {
   "cell_type": "code",
   "execution_count": 1,
   "metadata": {},
   "outputs": [],
   "source": [
    "# Modules\n",
    "import numpy as np\n",
    "import xarray as xr\n",
    "import pandas as pd\n",
    "\n",
    "from data import data_loader\n",
    "from data import gesla_preprocessing\n",
    "from data import era5_preprocessing\n",
    "from data import preprocessing"
   ]
  },
  {
   "cell_type": "code",
   "execution_count": 2,
   "metadata": {},
   "outputs": [
    {
     "name": "stdout",
     "output_type": "stream",
     "text": [
      "Load ERA5-Predictor: sp in region: lon-0530_lat7040 for years: 1999-2008 in season: winter\n",
      "Load Predictand from GESLA\n",
      "Applied one-hot-encoding\n",
      "Get overlapping timeseries of ERA5 and GESLA\n"
     ]
    }
   ],
   "source": [
    "# ---\n",
    "# Preprocessing\n",
    "# ---\n",
    "\n",
    "model_run = \"rf002\"\n",
    "\n",
    "# Get timeseries of predictor and predictand\n",
    "percentile = 0.95\n",
    "predictors = [\"sp\", \"tp\", \"u10\", \"v10\",]\n",
    "predictor = \"sp\"\n",
    "season = \"winter\"\n",
    "\n",
    "\n",
    "X, Y, t = preprocessing.preprocessing1(season, predictor, percentile)\n",
    "\n",
    "# Handle NaN values: \n",
    "# Insert numerical value that is not in data.\n",
    "# ML will hopefully recognize it.\n",
    "X[np.where(np.isnan(X))] = -999\n",
    "\n",
    "# Save number of lat/lon for interpreting model output later\n",
    "ndim = X.shape[0]\n",
    "nlat = X.shape[1]\n",
    "nlon = X.shape[2]\n",
    "\n",
    "# Prepare shape for model\n",
    "X = X.reshape(ndim, -1) # (ndim, nclasses)\n",
    "y = Y[:, 0] # Select only one station"
   ]
  },
  {
   "cell_type": "code",
   "execution_count": 4,
   "metadata": {},
   "outputs": [
    {
     "data": {
      "text/plain": [
       "RandomForestClassifier(class_weight='balanced', max_depth=14,\n",
       "                       min_samples_leaf=2, min_samples_split=4, oob_score=True,\n",
       "                       random_state=0)"
      ]
     },
     "execution_count": 4,
     "metadata": {},
     "output_type": "execute_result"
    }
   ],
   "source": [
    "#---\n",
    "# Train Model\n",
    "#---\n",
    "from sklearn.model_selection import train_test_split\n",
    "from sklearn.ensemble import RandomForestClassifier\n",
    "import pickle\n",
    "\n",
    "# Train-Test Split\n",
    "X_train, X_test, y_train, y_test = train_test_split(X, y, random_state=0, test_size=0.25)\n",
    "\n",
    "# Load Hyperparameters\n",
    "folder = \"models/random_forest/hyperparameter/\"\n",
    "fname = f\"{model_run}_{predictor}{str(percentile)[-2:]}.pkl\"\n",
    "\n",
    "with open(f\"{folder}{fname}\", 'rb') as f:\n",
    "    params = pickle.load(f)\n",
    "\n",
    "# Fit the model\n",
    "model = RandomForestClassifier(criterion='gini',\n",
    "n_estimators=params[\"n_estimators\"], #- nTrees \n",
    "max_depth=params[\"max_depth\"], \n",
    "min_samples_leaf=params[\"min_samples_leaf\"],\n",
    "min_samples_split=params[\"min_samples_split\"],\n",
    "random_state=0, # To compare results when changing hyperparameters\n",
    "class_weight=\"balanced\",\n",
    "oob_score=True,\n",
    ")\n",
    "\n",
    "model.fit(X_train, y_train)"
   ]
  },
  {
   "cell_type": "code",
   "execution_count": 12,
   "metadata": {},
   "outputs": [
    {
     "name": "stdout",
     "output_type": "stream",
     "text": [
      "test_score: 0.8938053097345132\n",
      "train_score: 0.9985228951255539\n",
      "importances: [0.         0.00024752 0.00099742 ... 0.00055351 0.         0.00026344]\n",
      "Metric values \n",
      "\n",
      "tnr: 0.9390862944162437\n",
      "tpr: 0.5862068965517241\n",
      "gmean: 0.741956105335083\n",
      "wacc: 0.7626465954839838\n",
      "precision: 0.5862068965517241\n",
      "recall: 0.5862068965517241\n",
      "fmeasure: 0.5862068965517241\n"
     ]
    },
    {
     "data": {
      "text/plain": [
       "{'tnr': 0.9390862944162437,\n",
       " 'tpr': 0.5862068965517241,\n",
       " 'gmean': 0.741956105335083,\n",
       " 'wacc': 0.7626465954839838,\n",
       " 'precision': 0.5862068965517241,\n",
       " 'recall': 0.5862068965517241,\n",
       " 'fmeasure': 0.5862068965517241}"
      ]
     },
     "execution_count": 12,
     "metadata": {},
     "output_type": "execute_result"
    },
    {
     "data": {
      "image/png": "[encoded data removed]",
      "text/plain": [
       "<Figure size 432x288 with 2 Axes>"
      ]
     },
     "metadata": {
      "needs_background": "light"
     },
     "output_type": "display_data"
    }
   ],
   "source": [
    "#---\n",
    "# Evaluate model / Diagnostic\n",
    "#--- \n",
    "# Score & Importance\n",
    "test_score = model.score(X_test, y_test)\n",
    "train_score = model.score(X_train, y_train)\n",
    "importances = model.feature_importances_\n",
    "\n",
    "print(f\"test_score: {test_score}\")\n",
    "print(f\"train_score: {train_score}\")\n",
    "print(f\"importances: {importances}\")\n",
    "\n",
    "%matplotlib inline\n",
    "#---\n",
    "#  Diagnostics\n",
    "#---\n",
    "\n",
    "# Confusion matrix\n",
    "#---\n",
    "# Format: \n",
    "# Reality / Model: Negative, Positive\n",
    "# Negative    Right Negative, False Positive \n",
    "# Positive    False Negative, Right Positive\n",
    "\n",
    "from sklearn.metrics import confusion_matrix\n",
    "from models import evaluation\n",
    "\n",
    "y_test_pred = model.predict(X_test)\n",
    "\n",
    "cf_matrix = confusion_matrix(y_test, y_test_pred)\n",
    "\n",
    "cfm_fig = evaluation.plot_cf(model, X_test, y_test)\n",
    "metrics = evaluation.cfm_metrics(model, X_test, y_test)\n",
    "\n",
    "# # Save results\n",
    "# folder = \"results/\"\n",
    "# fname = f\"{folder}cf_matrix.png\"\n",
    "# cfm_fig.savefig(fname)"
   ]
  },
  {
   "cell_type": "code",
   "execution_count": 10,
   "metadata": {},
   "outputs": [
    {
     "data": {
      "text/plain": [
       "<module 'models.evaluation' from 'd:\\\\OneDrive\\\\Alle_Ordner\\\\Coding\\\\Python\\\\master_thesis\\\\models\\\\evaluation.py'>"
      ]
     },
     "execution_count": 10,
     "metadata": {},
     "output_type": "execute_result"
    }
   ],
   "source": [
    "import importlib\n",
    "importlib.reload(evaluation)"
   ]
  },
  {
   "cell_type": "code",
   "execution_count": 4,
   "metadata": {},
   "outputs": [
    {
     "name": "stdout",
     "output_type": "stream",
     "text": [
      "AUC: 0.889637668475407\n"
     ]
    },
    {
     "data": {
      "image/png": "[encoded data removed]",
      "text/plain": [
       "<Figure size 432x288 with 1 Axes>"
      ]
     },
     "metadata": {
      "needs_background": "light"
     },
     "output_type": "display_data"
    }
   ],
   "source": [
    "# AUROC\n",
    "# Receiver Operating Characteristics & Area Under the Curve\n",
    "#---\n",
    "from sklearn.metrics import roc_curve, roc_auc_score\n",
    "import matplotlib.pyplot as plt\n",
    "\n",
    "y_test_proba = model.predict_proba(X_test)[:, 1] # Prob. for predicting 0 or 1, we only need second col\n",
    "\n",
    "fpr, tpr, thresholds = roc_curve(y_test, y_test_proba)\n",
    "auc = roc_auc_score(y_test, y_test_proba)\n",
    "\n",
    "print(f'AUC: {auc}')\n",
    "\n",
    "fig, ax = plt.subplots()\n",
    "\n",
    "plt.plot(fpr, tpr)\n",
    "plt.title(f\"AUROC with AUC = {auc}\")\n",
    "plt.show()"
   ]
  },
  {
   "cell_type": "code",
   "execution_count": 34,
   "metadata": {},
   "outputs": [],
   "source": [
    "#---\n",
    "# Optimization: Hyperparameters with Validation Curve\n",
    "#---\n",
    "\n",
    "# Train-Test Split\n",
    "from sklearn.ensemble import RandomForestClassifier\n",
    "\n",
    "X_train, X_test, y_train, y_test = train_test_split(X, y, random_state=0, test_size=0.25)\n",
    "\n",
    "from sklearn.model_selection import validation_curve\n",
    "import numpy as np \n",
    "\n",
    "param_range = np.arange(0, 10, 1)\n",
    "param_name = 'min_samples_leaf'\n",
    "\n",
    "train_scores, test_scores = validation_curve(\n",
    "    estimator=RandomForestClassifier(criterion=\"gini\",\n",
    "    class_weight=\"balanced\",\n",
    "    oob_score=True,\n",
    "    ),\n",
    "    X=X_train,\n",
    "    y=y_train,\n",
    "    param_name=param_name, #- varying for this parameter\n",
    "    param_range=param_range, #- for this parameters\n",
    "    cv=3, \n",
    ")\n"
   ]
  },
  {
   "cell_type": "code",
   "execution_count": null,
   "metadata": {},
   "outputs": [
    {
     "name": "stdout",
     "output_type": "stream",
     "text": [
      "Import Modules\n",
      "\n",
      "Description \n",
      "\n",
      "Model: Random Forest\n",
      "Predictand: Classification (0,1)\n",
      "Percentile Predictand: 0.95\n",
      "Predictors: sp \n",
      "Seaon: winter\n",
      "Preprocessing: preprocessing1\n",
      "Start Preprocessing of Data\n",
      "\n",
      "\n",
      "Load ERA5-Predictor: sp in region: lon-0530_lat7040 for years: 1999-2008 in season: winter\n",
      "Load Predictand from GESLA\n",
      "Applied one-hot-encoding\n",
      "Get overlapping timeseries of ERA5 and GESLA\n",
      "Start model training\n",
      "\n",
      "Evaluate Model \n",
      "\n",
      "test_score: 0.8982300884955752\n",
      "train_score: 0.9556868537666174\n",
      "importances: [0.00000000e+00 1.72891519e-04 2.81572627e-20 ... 4.34961487e-04\n",
      " 0.00000000e+00 0.00000000e+00]\n",
      "Show Confusion Matrix \n",
      "\n"
     ]
    },
    {
     "name": "stderr",
     "output_type": "stream",
     "text": [
      "d:\\OneDrive\\Alle_Ordner\\Coding\\Python\\master_thesis\\models\\random_forest\\rf001.py:100: UserWarning: Matplotlib is currently using module://matplotlib_inline.backend_inline, which is a non-GUI backend, so cannot show the figure.\n",
      "  cfm_fig.show()\n"
     ]
    },
    {
     "name": "stdout",
     "output_type": "stream",
     "text": [
      "Show AUROC \n",
      "\n",
      "AUC: 0.8767722737615964\n"
     ]
    },
    {
     "data": {
      "image/png": "[encoded data removed]",
      "text/plain": [
       "<Figure size 432x288 with 2 Axes>"
      ]
     },
     "metadata": {},
     "output_type": "display_data"
    },
    {
     "data": {
      "image/png": "[encoded data removed]",
      "text/plain": [
       "<Figure size 432x288 with 1 Axes>"
      ]
     },
     "metadata": {},
     "output_type": "display_data"
    },
    {
     "name": "stdout",
     "output_type": "stream",
     "text": [
      "End of Model run\n"
     ]
    }
   ],
   "source": [
    "#---\n",
    "# Execute a whole experiment\n",
    "#---\n",
    "from models.random_forest import rf001\n",
    "\n",
    "rf001.run()"
   ]
  },
  {
   "cell_type": "code",
   "execution_count": null,
   "metadata": {},
   "outputs": [],
   "source": [
    "# Postprocessing"
   ]
  },
  {
   "cell_type": "code",
   "execution_count": null,
   "metadata": {},
   "outputs": [],
   "source": [
    "# Visualization"
   ]
  }
 ],
 "metadata": {
  "interpreter": {
   "hash": "dbda0df39e8d9f08c77def502e386bb54b10e33e74098d5a47640c70cb49662a"
  },
  "kernelspec": {
   "display_name": "Python 3.8.12 ('mlpy38')",
   "language": "python",
   "name": "python3"
  },
  "language_info": {
   "codemirror_mode": {
    "name": "ipython",
    "version": 3
   },
   "file_extension": ".py",
   "mimetype": "text/x-python",
   "name": "python",
   "nbconvert_exporter": "python",
   "pygments_lexer": "ipython3",
   "version": "3.8.12"
  },
  "orig_nbformat": 4
 },
 "nbformat": 4,
 "nbformat_minor": 2
}
