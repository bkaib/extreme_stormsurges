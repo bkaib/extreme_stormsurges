{
 "cells": [
  {
   "cell_type": "code",
   "execution_count": 1,
   "metadata": {},
   "outputs": [],
   "source": [
    "# Modules\n",
    "import numpy as np\n",
    "import xarray as xr\n",
    "import pandas as pd\n",
    "\n",
    "from data import data_loader\n",
    "from data import gesla_preprocessing\n",
    "from data import era5_preprocessing\n",
    "from data import preprocessing"
   ]
  },
  {
   "cell_type": "markdown",
   "metadata": {},
   "source": [
    "# Next Steps\n",
    "\n",
    "3. Clean workbook\n",
    "4. Check if something more needs to be modularized.\n",
    "5. rf004 Use multiple predictors in Random Forest\n"
   ]
  },
  {
   "cell_type": "markdown",
   "metadata": {},
   "source": [
    "# Working Area"
   ]
  },
  {
   "cell_type": "code",
   "execution_count": 9,
   "metadata": {},
   "outputs": [
    {
     "name": "stdout",
     "output_type": "stream",
     "text": [
      "model_run: rf002, percentile: 0.99\n",
      "sp\n",
      "{'min_samples_leaf': 2, 'max_depth': 15, 'min_samples_split': 4, 'n_estimators': 100}\n",
      "tp\n",
      "{'min_samples_leaf': 2, 'max_depth': 5, 'min_samples_split': 4, 'n_estimators': 100}\n",
      "u10\n",
      "{'min_samples_leaf': 2, 'max_depth': 10, 'min_samples_split': 4, 'n_estimators': 500}\n",
      "v10\n",
      "{'min_samples_leaf': 2, 'max_depth': 15, 'min_samples_split': 4, 'n_estimators': 100}\n",
      "model_run: rf003, percentile: 0.99\n",
      "sp\n",
      "{'n_estimators': 1600, 'min_samples_split': 5, 'min_samples_leaf': 2, 'max_features': 'sqrt', 'max_depth': 20, 'bootstrap': True}\n",
      "tp\n",
      "{'n_estimators': 1200, 'min_samples_split': 10, 'min_samples_leaf': 4, 'max_features': 'sqrt', 'max_depth': 10, 'bootstrap': True}\n",
      "u10\n",
      "{'n_estimators': 1200, 'min_samples_split': 10, 'min_samples_leaf': 1, 'max_features': 'auto', 'max_depth': 30, 'bootstrap': True}\n",
      "v10\n",
      "{'n_estimators': 2000, 'min_samples_split': 5, 'min_samples_leaf': 1, 'max_features': 'auto', 'max_depth': 30, 'bootstrap': True}\n"
     ]
    }
   ],
   "source": [
    "#---\n",
    "# Hyperparameters rf002\n",
    "#---\n",
    "import pickle\n",
    "\n",
    "predictors = [\"sp\", \"tp\", \"u10\", \"v10\",]\n",
    "model_run = \"rf002\"\n",
    "percentile = 0.99\n",
    "pflag = str(percentile)[-2:]\n",
    "folder = f\"models/random_forest/{model_run}/\"\n",
    "\n",
    "print(f\"model_run: {model_run}, percentile: {percentile}\")\n",
    "for predictor in predictors:\n",
    "    fname = f\"{model_run}_{predictor}{pflag}.pkl\"\n",
    "\n",
    "    with open(f\"{folder}{fname}\", 'rb') as f:\n",
    "        data = pickle.load(f)\n",
    "\n",
    "    print(predictor)\n",
    "    print(data)\n",
    "\n",
    "#---\n",
    "# Hyperparameters rf003\n",
    "#---\n",
    "model_run = \"rf003\"\n",
    "folder = f\"models/random_forest/{model_run}/\"\n",
    "\n",
    "print(f\"model_run: {model_run}, percentile: {percentile}\")\n",
    "for predictor in predictors:\n",
    "    fname = f\"{model_run}_{predictor}{pflag}.pkl\"\n",
    "\n",
    "    with open(f\"{folder}{fname}\", 'rb') as f:\n",
    "        data = pickle.load(f)\n",
    "\n",
    "    print(predictor)\n",
    "    print(data)\n"
   ]
  },
  {
   "cell_type": "markdown",
   "metadata": {},
   "source": [
    "# Modularized Preprocessing"
   ]
  },
  {
   "cell_type": "code",
   "execution_count": 9,
   "metadata": {},
   "outputs": [],
   "source": [
    "#---\n",
    "# Modularize Preprocessing\n",
    "#---\n",
    "\n",
    "# Get timeseries of predictor and predictand\n",
    "season = \"winter\" # [\"winter\", \"autumn\",] \n",
    "predictors = [\"sp\", \"tp\", \"u10\", \"v10\",]\n",
    "percentile = 0.95 # [0.95, 0.99,] \n",
    "era5_import = \"preprocess1\" # [\"preprocess1\"]\n",
    "range_of_years = \"1999-2008\" # [\"1999-2008\", \"2009-2018\", \"2019-2022\",]\n",
    "subregion = \"lon-0530_lat7040\" # [\"lon-0530_lat7040\"]\n",
    "station_names = [\"hanko-han-fin-cmems\",]"
   ]
  },
  {
   "cell_type": "code",
   "execution_count": 10,
   "metadata": {},
   "outputs": [],
   "source": [
    "# Load already preprocessed Era5 Data\n",
    "# Preprocessing done with cdo\n",
    "#---\n",
    "era5_predictor = data_loader.load_daymean_era5(range_of_years, subregion, season, predictor, era5_import)"
   ]
  },
  {
   "cell_type": "code",
   "execution_count": 11,
   "metadata": {},
   "outputs": [
    {
     "name": "stdout",
     "output_type": "stream",
     "text": [
      "Load Predictand from GESLA\n",
      "Applied one-hot-encoding with Percentile: 0.95\n"
     ]
    }
   ],
   "source": [
    "#---\n",
    "# Preprocess GESLA Data\n",
    "#---\n",
    "\n",
    "# Load Predictand\n",
    "#---\n",
    "gesla_predictand = data_loader.load_gesla(station_names)\n",
    "\n",
    "# Select a season\n",
    "#---\n",
    "gesla_predictand = gesla_preprocessing.select_season(gesla_predictand, season)\n",
    "\n",
    "# Select only sea_level analysis data\n",
    "#---\n",
    "gesla_predictand = gesla_preprocessing.get_analysis(gesla_predictand)\n",
    "\n",
    "# Subtract mean of data grouped by station\n",
    "#---\n",
    "gesla_predictand = gesla_predictand[\"sea_level\"] # Detrend expects pd.Series\n",
    "gesla_predictand = gesla_preprocessing.detrend(gesla_predictand, level=\"station\")\n",
    "\n",
    "# Apply one hot encoding\n",
    "gesla_predictand = gesla_preprocessing.apply_dummies(gesla_predictand, percentile=percentile, level=\"station\")\n",
    "print(f\"Applied one-hot-encoding with Percentile: {percentile}\")\n",
    "\n",
    "# Convert to DataArray\n",
    "# nan values: no measurement at that timestamp for specific station\n",
    "gesla_predictand = gesla_predictand.to_xarray()"
   ]
  },
  {
   "cell_type": "code",
   "execution_count": 35,
   "metadata": {},
   "outputs": [
    {
     "name": "stdout",
     "output_type": "stream",
     "text": [
      "Get overlapping timeseries of ERA5 and GESLA\n",
      "X: (903, 121, 141)\n",
      "Y: (903, 1)\n",
      "t: (903,)\n"
     ]
    }
   ],
   "source": [
    "#---\n",
    "# Get overlapping time-series\n",
    "#---\n",
    "X, Y, t = preprocessing.intersect_time(era5_predictor, gesla_predictand)\n",
    "\n",
    "print(f\"X: {X.shape}\")\n",
    "print(f\"Y: {Y.shape}\")\n",
    "print(f\"t: {t.shape}\")"
   ]
  },
  {
   "cell_type": "code",
   "execution_count": 38,
   "metadata": {},
   "outputs": [
    {
     "name": "stdout",
     "output_type": "stream",
     "text": [
      "(903, 17061)\n",
      "(903,)\n"
     ]
    }
   ],
   "source": [
    "# Reshape for model input\n",
    "#---\n",
    "\n",
    "ndim = t.shape[0]\n",
    "X = X.reshape(ndim, -1) # (ndim, nclasses)\n",
    "y = Y[:, 0] # Select one station\n",
    "print(X.shape)\n",
    "print(y.shape)"
   ]
  },
  {
   "cell_type": "code",
   "execution_count": 39,
   "metadata": {},
   "outputs": [],
   "source": [
    "#---\n",
    "# Handle NaN Values\n",
    "#---\n",
    "\n",
    "# Insert numerical value that is not in data.\n",
    "# ML will hopefully recognize it.\n",
    "X[np.where(np.isnan(X))] = -999"
   ]
  },
  {
   "cell_type": "markdown",
   "metadata": {},
   "source": [
    "# Work Area"
   ]
  },
  {
   "cell_type": "markdown",
   "metadata": {},
   "source": [
    "## Setup a model"
   ]
  },
  {
   "cell_type": "code",
   "execution_count": 42,
   "metadata": {},
   "outputs": [
    {
     "data": {
      "text/plain": [
       "(677, 17061)"
      ]
     },
     "execution_count": 42,
     "metadata": {},
     "output_type": "execute_result"
    }
   ],
   "source": [
    "#---\n",
    "# Train Model\n",
    "#---\n",
    "from sklearn.model_selection import train_test_split\n",
    "from sklearn.ensemble import RandomForestClassifier\n",
    "import pickle\n",
    "\n",
    "# Train-Test Split\n",
    "X_train, X_test, y_train, y_test = train_test_split(X, y, random_state=0, test_size=0.25)\n",
    "X_train.shape"
   ]
  },
  {
   "cell_type": "code",
   "execution_count": 43,
   "metadata": {},
   "outputs": [],
   "source": [
    "#---\n",
    "#  Optimize Hyperparameters\n",
    "#---\n",
    "def optimize_hyperparameter(X_train, y_train, clf, optimizer, param_grid, k, n_iter=None, n_jobs=-1):\n",
    "    \"\"\"\n",
    "    Description: \n",
    "        Return best hyperparameters for a model based on chosen optimizer\n",
    "    Parameters:\n",
    "        X_train (): Predictor train data\n",
    "        y_train (): Predictand train data\n",
    "\n",
    "        clf (): Base Model\n",
    "        optimizer (): GridSearchCV or RandomizedSearchCV\n",
    "        param_grid (dict): Dictionary with hyperparameter ranges\n",
    "        k (int): k-fold Cross-Validation\n",
    "        n_iter (int): Number of combinations used for RandomizedSearchCV (Defaults:None)\n",
    "        n_jobs (int): Number of processor used. (Defaults:-1, e.g. all processors)\n",
    "    \"\"\"\n",
    "    # Modules\n",
    "    #---\n",
    "    from sklearn.model_selection import GridSearchCV \n",
    "    from sklearn.model_selection import RandomizedSearchCV\n",
    "    # RandomSearchCV\n",
    "    #---\n",
    "    print(f\"Optimize Hyperparameters using {optimizer}\")\n",
    "\n",
    "    if optimizer == \"RandomSearchCV\":\n",
    "        assert n_iter != None, f\"{optimizer} needs number of combinations.\"\n",
    "        opt_model = RandomizedSearchCV(estimator=clf, \n",
    "        param_distributions = param_grid, \n",
    "        n_iter = n_iter, \n",
    "        cv = k, \n",
    "        verbose = 2, \n",
    "        random_state = 0, \n",
    "        n_jobs = n_jobs,\n",
    "        )\n",
    "\n",
    "    # GridSearchCV\n",
    "    #---\n",
    "    if optimizer == \"GridSearchCV\":\n",
    "        # Instantiate the grid search model\n",
    "        opt_model = GridSearchCV(estimator=clf, \n",
    "        param_grid = param_grid, \n",
    "        cv = k,\n",
    "        verbose = 2, \n",
    "        n_jobs = n_jobs, \n",
    "        )\n",
    "\n",
    "    # Fit the random search model\n",
    "    opt_model.fit(X_train, y_train)\n",
    "\n",
    "    # Best Params\n",
    "    #---\n",
    "    return opt_model.best_params_\n"
   ]
  },
  {
   "cell_type": "code",
   "execution_count": null,
   "metadata": {},
   "outputs": [],
   "source": [
    "def optimize_hyperparameter(X_train, y_train, clf, optimizer, param_grid, k, n_iter=None, n_jobs=-1):\n",
    "        \"\"\"\n",
    "        Description: \n",
    "            Return best hyperparameters for a model based on chosen optimizer\n",
    "        Parameters:\n",
    "            X_train (): Predictor train data\n",
    "            y_train (): Predictand train data\n",
    "\n",
    "            clf (): Base Model\n",
    "            optimizer (): GridSearchCV or RandomizedSearchCV\n",
    "            param_grid (dict): Dictionary with hyperparameter ranges\n",
    "            k (int): k-fold Cross-Validation\n",
    "            n_iter (int): Number of combinations used for RandomizedSearchCV (Defaults:None)\n",
    "            n_jobs (int): Number of processor used. (Defaults:-1, e.g. all processors)\n",
    "        \"\"\"\n",
    "        # Modules\n",
    "        #---\n",
    "        from sklearn.model_selection import GridSearchCV \n",
    "        from sklearn.model_selection import RandomizedSearchCV\n",
    "        # RandomSearchCV\n",
    "        #---\n",
    "        print(f\"Optimize Hyperparameters using {optimizer}\")\n",
    "\n",
    "        if optimizer == \"RandomSearchCV\":\n",
    "            assert n_iter != None, f\"{optimizer} needs number of combinations.\"\n",
    "            opt_model = RandomizedSearchCV(estimator=clf, \n",
    "            param_distributions = param_grid, \n",
    "            n_iter = n_iter, \n",
    "            cv = k, \n",
    "            verbose = 2, \n",
    "            random_state = 0, \n",
    "            n_jobs = n_jobs,\n",
    "            )\n",
    "\n",
    "        # GridSearchCV\n",
    "        #---\n",
    "        if optimizer == \"GridSearchCV\":\n",
    "            # Instantiate the grid search model\n",
    "            opt_model = GridSearchCV(estimator=clf, \n",
    "            param_grid = param_grid, \n",
    "            cv = k,\n",
    "            verbose = 2, \n",
    "            n_jobs = n_jobs, \n",
    "            )\n",
    "\n",
    "        # Fit the random search model\n",
    "        opt_model.fit(X_train, y_train)\n",
    "\n",
    "        # Best Params\n",
    "        #---\n",
    "        return opt_model.best_params_"
   ]
  },
  {
   "cell_type": "code",
   "execution_count": 44,
   "metadata": {},
   "outputs": [
    {
     "name": "stdout",
     "output_type": "stream",
     "text": [
      "Tested Hyperparameters: {'n_estimators': [200, 400, 600, 800, 1000, 1200, 1400, 1600, 1800, 2000], 'max_features': ['auto', 'sqrt'], 'max_depth': [10, 20, 30, 40, 50, 60, 70, 80, 90, 100, 110, None], 'min_samples_split': [2, 5, 10], 'min_samples_leaf': [1, 2, 4], 'bootstrap': [True, False]}\n",
      "Optimize Hyperparameters using RandomSearchCV\n",
      "Fitting 3 folds for each of 100 candidates, totalling 300 fits\n"
     ]
    }
   ],
   "source": [
    "#---\n",
    "#  Optimize Hyperparameters\n",
    "#---\n",
    "clf = RandomForestClassifier()\n",
    "optimizer = \"RandomSearchCV\"\n",
    "k = 3 # k-fold cross-validation\n",
    "n_iter = 100 # number of combinations\n",
    "\n",
    "# Number of trees in random forest\n",
    "n_estimators = [int(x) for x in np.linspace(start = 200, stop = 2000, num = 10)]\n",
    "\n",
    "# Number of features to consider at every split\n",
    "max_features = ['auto', 'sqrt']\n",
    "\n",
    "# Maximum number of levels in tree\n",
    "max_depth = [int(x) for x in np.linspace(10, 110, num = 11)]\n",
    "max_depth.append(None)\n",
    "\n",
    "# Minimum number of samples required to split a node\n",
    "min_samples_split = [2, 5, 10]\n",
    "\n",
    "# Minimum number of samples required at each leaf node\n",
    "min_samples_leaf = [1, 2, 4]\n",
    "\n",
    "# Method of selecting samples for training each tree\n",
    "bootstrap = [True, False]\n",
    "\n",
    "# Create the random grid\n",
    "param_grid = {'n_estimators': n_estimators,\n",
    "               'max_features': max_features,\n",
    "               'max_depth': max_depth,\n",
    "               'min_samples_split': min_samples_split,\n",
    "               'min_samples_leaf': min_samples_leaf,\n",
    "               'bootstrap': bootstrap}\n",
    "\n",
    "print(f\"Tested Hyperparameters: {param_grid}\")\n",
    "\n",
    "best_params = optimize_hyperparameter(X_train, y_train, clf, optimizer, param_grid, k, n_iter=n_iter, n_jobs=-1)"
   ]
  },
  {
   "cell_type": "code",
   "execution_count": 54,
   "metadata": {},
   "outputs": [],
   "source": [
    "# Save hyperparameters\n",
    "model_run = f\"RandomForest_{optimizer}\"\n",
    "folder = \"results/random_forest/\" \n",
    "saver.save_hpdict(best_params, predictor, model_run, percentile, folder)"
   ]
  },
  {
   "cell_type": "code",
   "execution_count": 46,
   "metadata": {},
   "outputs": [
    {
     "data": {
      "text/plain": [
       "RandomForestClassifier(class_weight='balanced', max_depth=20,\n",
       "                       max_features='sqrt', min_samples_leaf=2,\n",
       "                       n_estimators=600, oob_score=True, random_state=0)"
      ]
     },
     "execution_count": 46,
     "metadata": {},
     "output_type": "execute_result"
    }
   ],
   "source": [
    "# Fit the model\n",
    "model = RandomForestClassifier(criterion='gini',\n",
    "n_estimators=best_params[\"n_estimators\"], #- nTrees \n",
    "max_depth=best_params[\"max_depth\"], \n",
    "max_features=best_params[\"max_features\"],\n",
    "min_samples_leaf=best_params[\"min_samples_leaf\"],\n",
    "min_samples_split=best_params[\"min_samples_split\"],\n",
    "bootstrap=best_params[\"bootstrap\"],\n",
    "random_state=0, # To compare results when changing hyperparameters\n",
    "class_weight=\"balanced\",\n",
    "oob_score=True,\n",
    ")\n",
    "\n",
    "model.fit(X_train, y_train)"
   ]
  },
  {
   "cell_type": "code",
   "execution_count": 47,
   "metadata": {},
   "outputs": [],
   "source": [
    "# Saving the model\n",
    "filename = f'RandomForest_{optimizer}.sav'\n",
    "pickle.dump(model, open(f'{folder}{filename}', 'wb'))"
   ]
  },
  {
   "cell_type": "code",
   "execution_count": 50,
   "metadata": {},
   "outputs": [
    {
     "data": {
      "text/plain": [
       "<bound method BaseEstimator.get_params of RandomForestClassifier(class_weight='balanced', max_depth=20,\n",
       "                       max_features='sqrt', min_samples_leaf=2,\n",
       "                       n_estimators=600, oob_score=True, random_state=0)>"
      ]
     },
     "execution_count": 50,
     "metadata": {},
     "output_type": "execute_result"
    }
   ],
   "source": [
    "# Load the model from disk\n",
    "loaded_model = pickle.load(open(filename, 'rb'))\n",
    "result = loaded_model.score(X_test, y_test)"
   ]
  },
  {
   "cell_type": "markdown",
   "metadata": {},
   "source": [
    "## Evaluate the model"
   ]
  },
  {
   "cell_type": "code",
   "execution_count": 15,
   "metadata": {},
   "outputs": [
    {
     "name": "stdout",
     "output_type": "stream",
     "text": [
      "Load Predictand from GESLA\n",
      "Applied one-hot-encoding with Percentile: 0.95\n",
      "Get overlapping timeseries of ERA5 and GESLA\n",
      "X: (903, 121, 141)\n",
      "Y: (903, 1)\n",
      "t: (903,)\n",
      "(903, 17061)\n",
      "(903,)\n",
      "Evaluate Model \n",
      "\n",
      "test_score: 0.8893805309734514\n",
      "train_score: 1.0\n",
      "importances: [2.81286683e-04 1.19415172e-04 1.26645434e-04 ... 9.83907397e-05\n",
      " 5.47066618e-06 1.73993762e-05]\n",
      "saved importances to : models/random_forest/rf003/importances_sp95\n",
      "Show Confusion Matrix \n",
      "\n",
      "saved cf matrix to : models/random_forest/rf003/cf_matrix_sp95.jpg\n"
     ]
    },
    {
     "name": "stderr",
     "output_type": "stream",
     "text": [
      "C:\\Users\\Kai\\AppData\\Local\\Temp\\ipykernel_5172\\1014038090.py:129: UserWarning: Matplotlib is currently using module://matplotlib_inline.backend_inline, which is a non-GUI backend, so cannot show the figure.\n",
      "  cfm_fig.show()\n"
     ]
    },
    {
     "name": "stdout",
     "output_type": "stream",
     "text": [
      "Metric values \n",
      "\n",
      "tnr: 0.9441624365482234\n",
      "tpr: 0.5172413793103449\n",
      "gmean: 0.6988275044481428\n",
      "wacc: 0.7307019079292841\n",
      "precision: 0.5769230769230769\n",
      "recall: 0.5172413793103449\n",
      "fmeasure: 0.5454545454545454\n",
      "saved cf metrics to : cf_metrics_sp95.pkl\n",
      "Show AUROC \n",
      "\n",
      "AUC: 0.8802730614388237\n"
     ]
    },
    {
     "name": "stderr",
     "output_type": "stream",
     "text": [
      "C:\\Users\\Kai\\AppData\\Local\\Temp\\ipykernel_5172\\1014038090.py:168: UserWarning: Matplotlib is currently using module://matplotlib_inline.backend_inline, which is a non-GUI backend, so cannot show the figure.\n",
      "  fig.show()\n"
     ]
    },
    {
     "name": "stdout",
     "output_type": "stream",
     "text": [
      "saved AUROC to : models/random_forest/rf003/AUROC_sp95.jpg\n",
      "Load Predictand from GESLA\n",
      "Applied one-hot-encoding with Percentile: 0.95\n",
      "Get overlapping timeseries of ERA5 and GESLA\n",
      "X: (903, 121, 141)\n",
      "Y: (903, 1)\n",
      "t: (903,)\n",
      "(903, 17061)\n",
      "(903,)\n",
      "Evaluate Model \n",
      "\n",
      "test_score: 0.8628318584070797\n",
      "train_score: 1.0\n",
      "importances: [3.86737222e-05 5.64933790e-05 3.61813122e-05 ... 0.00000000e+00\n",
      " 3.41596253e-05 6.83162439e-05]\n",
      "saved importances to : models/random_forest/rf003/importances_tp95\n",
      "Show Confusion Matrix \n",
      "\n",
      "saved cf matrix to : models/random_forest/rf003/cf_matrix_tp95.jpg\n"
     ]
    },
    {
     "name": "stderr",
     "output_type": "stream",
     "text": [
      "C:\\Users\\Kai\\AppData\\Local\\Temp\\ipykernel_5172\\1014038090.py:129: UserWarning: Matplotlib is currently using module://matplotlib_inline.backend_inline, which is a non-GUI backend, so cannot show the figure.\n",
      "  cfm_fig.show()\n"
     ]
    },
    {
     "name": "stdout",
     "output_type": "stream",
     "text": [
      "Metric values \n",
      "\n",
      "tnr: 0.9796954314720813\n",
      "tpr: 0.06896551724137931\n",
      "gmean: 0.2599330724830689\n",
      "wacc: 0.5243304743567303\n",
      "precision: 0.3333333333333333\n",
      "recall: 0.06896551724137931\n",
      "fmeasure: 0.1142857142857143\n",
      "saved cf metrics to : cf_metrics_tp95.pkl\n",
      "Show AUROC \n",
      "\n",
      "AUC: 0.8538421144757571\n"
     ]
    },
    {
     "name": "stderr",
     "output_type": "stream",
     "text": [
      "C:\\Users\\Kai\\AppData\\Local\\Temp\\ipykernel_5172\\1014038090.py:168: UserWarning: Matplotlib is currently using module://matplotlib_inline.backend_inline, which is a non-GUI backend, so cannot show the figure.\n",
      "  fig.show()\n"
     ]
    },
    {
     "name": "stdout",
     "output_type": "stream",
     "text": [
      "saved AUROC to : models/random_forest/rf003/AUROC_tp95.jpg\n",
      "Load Predictand from GESLA\n",
      "Applied one-hot-encoding with Percentile: 0.95\n",
      "Get overlapping timeseries of ERA5 and GESLA\n",
      "X: (903, 121, 141)\n",
      "Y: (903, 1)\n",
      "t: (903,)\n",
      "(903, 17061)\n",
      "(903,)\n",
      "Evaluate Model \n",
      "\n",
      "test_score: 0.8672566371681416\n",
      "train_score: 0.9852289512555391\n",
      "importances: [3.30822191e-05 5.09220351e-05 1.84451581e-04 ... 0.00000000e+00\n",
      " 7.21407244e-05 2.02430134e-05]\n",
      "saved importances to : models/random_forest/rf003/importances_u1095\n",
      "Show Confusion Matrix \n",
      "\n"
     ]
    },
    {
     "name": "stderr",
     "output_type": "stream",
     "text": [
      "C:\\Users\\Kai\\AppData\\Local\\Temp\\ipykernel_5172\\1014038090.py:129: UserWarning: Matplotlib is currently using module://matplotlib_inline.backend_inline, which is a non-GUI backend, so cannot show the figure.\n",
      "  cfm_fig.show()\n"
     ]
    },
    {
     "name": "stdout",
     "output_type": "stream",
     "text": [
      "saved cf matrix to : models/random_forest/rf003/cf_matrix_u1095.jpg\n",
      "Metric values \n",
      "\n",
      "tnr: 0.9289340101522843\n",
      "tpr: 0.4482758620689655\n",
      "gmean: 0.6453051171393238\n",
      "wacc: 0.6886049361106249\n",
      "precision: 0.48148148148148145\n",
      "recall: 0.4482758620689655\n",
      "fmeasure: 0.4642857142857143\n",
      "saved cf metrics to : cf_metrics_u1095.pkl\n",
      "Show AUROC \n",
      "\n",
      "AUC: 0.8750218799229826\n"
     ]
    },
    {
     "name": "stderr",
     "output_type": "stream",
     "text": [
      "C:\\Users\\Kai\\AppData\\Local\\Temp\\ipykernel_5172\\1014038090.py:168: UserWarning: Matplotlib is currently using module://matplotlib_inline.backend_inline, which is a non-GUI backend, so cannot show the figure.\n",
      "  fig.show()\n"
     ]
    },
    {
     "name": "stdout",
     "output_type": "stream",
     "text": [
      "saved AUROC to : models/random_forest/rf003/AUROC_u1095.jpg\n",
      "Load Predictand from GESLA\n",
      "Applied one-hot-encoding with Percentile: 0.95\n",
      "Get overlapping timeseries of ERA5 and GESLA\n",
      "X: (903, 121, 141)\n",
      "Y: (903, 1)\n",
      "t: (903,)\n",
      "(903, 17061)\n",
      "(903,)\n",
      "Evaluate Model \n",
      "\n",
      "test_score: 0.8805309734513275\n",
      "train_score: 1.0\n",
      "importances: [8.70656027e-04 3.95476314e-04 1.19612168e-03 ... 0.00000000e+00\n",
      " 5.80943809e-05 0.00000000e+00]\n",
      "saved importances to : models/random_forest/rf003/importances_v1095\n",
      "Show Confusion Matrix \n",
      "\n",
      "saved cf matrix to : models/random_forest/rf003/cf_matrix_v1095.jpg\n"
     ]
    },
    {
     "name": "stderr",
     "output_type": "stream",
     "text": [
      "C:\\Users\\Kai\\AppData\\Local\\Temp\\ipykernel_5172\\1014038090.py:129: UserWarning: Matplotlib is currently using module://matplotlib_inline.backend_inline, which is a non-GUI backend, so cannot show the figure.\n",
      "  cfm_fig.show()\n",
      "C:\\Users\\Kai\\AppData\\Local\\Temp\\ipykernel_5172\\1014038090.py:168: UserWarning: Matplotlib is currently using module://matplotlib_inline.backend_inline, which is a non-GUI backend, so cannot show the figure.\n",
      "  fig.show()\n"
     ]
    },
    {
     "name": "stdout",
     "output_type": "stream",
     "text": [
      "Metric values \n",
      "\n",
      "tnr: 0.9898477157360406\n",
      "tpr: 0.13793103448275862\n",
      "gmean: 0.36950063519819243\n",
      "wacc: 0.5638893751093996\n",
      "precision: 0.6666666666666666\n",
      "recall: 0.13793103448275862\n",
      "fmeasure: 0.2285714285714286\n",
      "saved cf metrics to : cf_metrics_v1095.pkl\n",
      "Show AUROC \n",
      "\n",
      "AUC: 0.8582180990722913\n",
      "saved AUROC to : models/random_forest/rf003/AUROC_v1095.jpg\n"
     ]
    },
    {
     "data": {
      "image/png": "[encoded data removed]",
      "text/plain": [
       "<Figure size 432x288 with 2 Axes>"
      ]
     },
     "metadata": {
      "needs_background": "light"
     },
     "output_type": "display_data"
    },
    {
     "data": {
      "image/png": "[encoded data removed]",
      "text/plain": [
       "<Figure size 432x288 with 1 Axes>"
      ]
     },
     "metadata": {
      "needs_background": "light"
     },
     "output_type": "display_data"
    },
    {
     "data": {
      "image/png": "[encoded data removed]",
      "text/plain": [
       "<Figure size 432x288 with 2 Axes>"
      ]
     },
     "metadata": {
      "needs_background": "light"
     },
     "output_type": "display_data"
    },
    {
     "data": {
      "image/png": "[encoded data removed]",
      "text/plain": [
       "<Figure size 432x288 with 1 Axes>"
      ]
     },
     "metadata": {
      "needs_background": "light"
     },
     "output_type": "display_data"
    },
    {
     "data": {
      "image/png": "[encoded data removed]",
      "text/plain": [
       "<Figure size 432x288 with 2 Axes>"
      ]
     },
     "metadata": {
      "needs_background": "light"
     },
     "output_type": "display_data"
    },
    {
     "data": {
      "image/png": "[encoded data removed]",
      "text/plain": [
       "<Figure size 432x288 with 1 Axes>"
      ]
     },
     "metadata": {
      "needs_background": "light"
     },
     "output_type": "display_data"
    },
    {
     "data": {
      "image/png": "[encoded data removed]",
      "text/plain": [
       "<Figure size 432x288 with 2 Axes>"
      ]
     },
     "metadata": {
      "needs_background": "light"
     },
     "output_type": "display_data"
    },
    {
     "data": {
      "image/png": "[encoded data removed]",
      "text/plain": [
       "<Figure size 432x288 with 1 Axes>"
      ]
     },
     "metadata": {
      "needs_background": "light"
     },
     "output_type": "display_data"
    }
   ],
   "source": [
    "#---\n",
    "# Get Train-Test Split\n",
    "#---\n",
    "# Get timeseries of predictor and predictand\n",
    "from data import data_loader\n",
    "\n",
    "season = \"winter\" # [\"winter\", \"autumn\",] \n",
    "predictors = [\"sp\", \"tp\", \"u10\", \"v10\",]\n",
    "percentile = 0.99 # [0.95, 0.99,] \n",
    "era5_import = \"preprocess1\" # [\"preprocess1\"]\n",
    "range_of_years = \"1999-2008\" # [\"1999-2008\", \"2009-2018\", \"2019-2022\",]\n",
    "subregion = \"lon-0530_lat7040\" # [\"lon-0530_lat7040\"]\n",
    "station_names = [\"hanko-han-fin-cmems\",]\n",
    "\n",
    "for predictor in predictors:\n",
    "    # Load already preprocessed Era5 Data\n",
    "    # Preprocessing done with cdo\n",
    "    #---\n",
    "    era5_predictor = data_loader.load_daymean_era5(range_of_years, subregion, season, predictor, era5_import)\n",
    "\n",
    "    #---\n",
    "    # Preprocess GESLA Data\n",
    "    #---\n",
    "\n",
    "    # Load Predictand\n",
    "    #---\n",
    "    gesla_predictand = data_loader.load_gesla(station_names)\n",
    "\n",
    "    # Select a season\n",
    "    #---\n",
    "    gesla_predictand = gesla_preprocessing.select_season(gesla_predictand, season)\n",
    "\n",
    "    # Select only sea_level analysis data\n",
    "    #---\n",
    "    gesla_predictand = gesla_preprocessing.get_analysis(gesla_predictand)\n",
    "\n",
    "    # Subtract mean of data grouped by station\n",
    "    #---\n",
    "    gesla_predictand = gesla_predictand[\"sea_level\"] # Detrend expects pd.Series\n",
    "    gesla_predictand = gesla_preprocessing.detrend(gesla_predictand, level=\"station\")\n",
    "\n",
    "    # Apply one hot encoding\n",
    "    gesla_predictand = gesla_preprocessing.apply_dummies(gesla_predictand, percentile=percentile, level=\"station\")\n",
    "    print(f\"Applied one-hot-encoding with Percentile: {percentile}\")\n",
    "\n",
    "    # Convert to DataArray\n",
    "    # nan values: no measurement at that timestamp for specific station\n",
    "    gesla_predictand = gesla_predictand.to_xarray()\n",
    "\n",
    "    #---\n",
    "    # Get overlapping time-series\n",
    "    #---\n",
    "    X, Y, t = preprocessing.intersect_time(era5_predictor, gesla_predictand)\n",
    "\n",
    "    print(f\"X: {X.shape}\")\n",
    "    print(f\"Y: {Y.shape}\")\n",
    "    print(f\"t: {t.shape}\")\n",
    "\n",
    "    # Reshape for model input\n",
    "    #---\n",
    "\n",
    "    ndim = t.shape[0]\n",
    "    X = X.reshape(ndim, -1) # (ndim, nclasses)\n",
    "    y = Y[:, 0] # Select one station\n",
    "    print(X.shape)\n",
    "    print(y.shape)\n",
    "\n",
    "    #---\n",
    "    # Handle NaN Values\n",
    "    #---\n",
    "\n",
    "    # Insert numerical value that is not in data.\n",
    "    # ML will hopefully recognize it.\n",
    "    X[np.where(np.isnan(X))] = -999\n",
    "\n",
    "    #---\n",
    "    # Train Model\n",
    "    #---\n",
    "    from sklearn.model_selection import train_test_split\n",
    "    from sklearn.ensemble import RandomForestClassifier\n",
    "    import pickle\n",
    "\n",
    "    # Train-Test Split\n",
    "    X_train, X_test, y_train, y_test = train_test_split(X, y, random_state=0, test_size=0.25)\n",
    "\n",
    "    #---\n",
    "    # Load Model\n",
    "    #---\n",
    "    import pickle\n",
    "    percentile = 0.99\n",
    "    pflag = str(percentile)[-2:]\n",
    "    folder = f\"models/random_forest/rf003/\"\n",
    "    fname = f\"RandomForest_RandomSearchCV_{predictor}{pflag}.sav\"\n",
    "    \n",
    "    model = pickle.load(open(f\"{folder}{fname}\", 'rb'))\n",
    "\n",
    "    #---\n",
    "    # Evaluate model / Diagnostic\n",
    "    #--- \n",
    "    print(\"Evaluate Model \\n\")\n",
    "\n",
    "    # Score & Importance\n",
    "    #---\n",
    "    test_score = model.score(X_test, y_test)\n",
    "    train_score = model.score(X_train, y_train)\n",
    "    importances = model.feature_importances_\n",
    "\n",
    "    print(f\"test_score: {test_score}\")\n",
    "    print(f\"train_score: {train_score}\")\n",
    "    print(f\"importances: {importances}\")\n",
    "\n",
    "    fname = f\"importances_{predictor}{str(percentile)[-2:]}\"\n",
    "    np.save(f\"{folder}{fname}\", importances)\n",
    "    print(f\"saved importances to : {folder}{fname}\")\n",
    "\n",
    "    # Confusion matrix\n",
    "    #---\n",
    "    # Format: \n",
    "    # Reality / Model: Negative, Positive\n",
    "    # Negative    Right Negative, False Positive \n",
    "    # Positive    False Negative, Right Positive\n",
    "\n",
    "    from sklearn.metrics import confusion_matrix\n",
    "    from models import evaluation\n",
    "\n",
    "    print(\"Show Confusion Matrix \\n\")\n",
    "\n",
    "    cfm_fig = evaluation.plot_cf(model, X_test, y_test)\n",
    "    cfm_fig.show()\n",
    "\n",
    "    # Save CFM\n",
    "    fname = f\"{folder}cf_matrix_{predictor}{str(percentile)[-2:]}.jpg\"\n",
    "    cfm_fig.savefig(fname)\n",
    "    print(f\"saved cf matrix to : {fname}\")\n",
    "\n",
    "    # Calculate CFM-Metrics\n",
    "    metrics = evaluation.cfm_metrics(model, X_test, y_test)\n",
    "    fname = f\"cf_metrics_{predictor}{str(percentile)[-2:]}.pkl\"\n",
    "\n",
    "    with open(f\"{folder}{fname}\", 'wb') as f:\n",
    "        pickle.dump(metrics, f)\n",
    "\n",
    "    print(f\"saved cf metrics to : {fname}\")\n",
    "\n",
    "\n",
    "    # AUROC\n",
    "    # Receiver Operating Characteristics & Area Under the Curve\n",
    "    #---\n",
    "    from sklearn.metrics import roc_curve, roc_auc_score\n",
    "    import matplotlib.pyplot as plt\n",
    "\n",
    "    print(\"Show AUROC \\n\")\n",
    "\n",
    "    y_test_proba = model.predict_proba(X_test)[:, 1] # Prob. for predicting 0 or 1, we only need second col\n",
    "\n",
    "    fpr, tpr, thresholds = roc_curve(y_test, y_test_proba)\n",
    "    auc = roc_auc_score(y_test, y_test_proba)\n",
    "\n",
    "    print(f'AUC: {auc}')\n",
    "\n",
    "    fig, ax = plt.subplots(tight_layout=True)\n",
    "\n",
    "    ax.plot(fpr, tpr)\n",
    "    ax.set_xlabel(\"FPR\")\n",
    "    ax.set_ylabel(\"TPR\")\n",
    "    ax.set_title(f\"AUROC with AUC = {auc}\")\n",
    "\n",
    "    fig.show()\n",
    "\n",
    "    fname = f\"{folder}AUROC_{predictor}{str(percentile)[-2:]}.jpg\"\n",
    "    fig.savefig(fname)\n",
    "    print(f\"saved AUROC to : {fname}\")"
   ]
  },
  {
   "cell_type": "markdown",
   "metadata": {},
   "source": [
    "# Not Modularized Examples"
   ]
  },
  {
   "cell_type": "code",
   "execution_count": 2,
   "metadata": {},
   "outputs": [
    {
     "name": "stdout",
     "output_type": "stream",
     "text": [
      "Load ERA5-Predictor: sp in region: lon-0530_lat7040 for years: 1999-2008 in season: winter\n",
      "Load Predictand from GESLA\n",
      "Applied one-hot-encoding\n",
      "Get overlapping timeseries of ERA5 and GESLA\n"
     ]
    }
   ],
   "source": [
    "# ---\n",
    "# Preprocessing\n",
    "# ---\n",
    "\n",
    "model_run = \"rf002\"\n",
    "\n",
    "# Get timeseries of predictor and predictand\n",
    "percentile = 0.95\n",
    "predictors = [\"sp\", \"tp\", \"u10\", \"v10\",]\n",
    "predictor = \"sp\"\n",
    "season = \"winter\"\n",
    "\n",
    "\n",
    "X, Y, t = preprocessing.preprocessing1(season, predictor, percentile)\n",
    "\n",
    "# Handle NaN values: \n",
    "# Insert numerical value that is not in data.\n",
    "# ML will hopefully recognize it.\n",
    "X[np.where(np.isnan(X))] = -999\n",
    "\n",
    "# Save number of lat/lon for interpreting model output later\n",
    "ndim = X.shape[0]\n",
    "nlat = X.shape[1]\n",
    "nlon = X.shape[2]\n",
    "\n",
    "# Prepare shape for model\n",
    "X = X.reshape(ndim, -1) # (ndim, nclasses)\n",
    "y = Y[:, 0] # Select only one station"
   ]
  },
  {
   "cell_type": "code",
   "execution_count": 17,
   "metadata": {},
   "outputs": [
    {
     "data": {
      "text/plain": [
       "{'min_samples_leaf': 2,\n",
       " 'max_depth': 10,\n",
       " 'min_samples_split': 4,\n",
       " 'n_estimators': 500}"
      ]
     },
     "execution_count": 17,
     "metadata": {},
     "output_type": "execute_result"
    }
   ],
   "source": [
    "#---\n",
    "# Train Model\n",
    "#---\n",
    "from sklearn.model_selection import train_test_split\n",
    "from sklearn.ensemble import RandomForestClassifier\n",
    "import pickle\n",
    "\n",
    "# Train-Test Split\n",
    "X_train, X_test, y_train, y_test = train_test_split(X, y, random_state=0, test_size=0.25)\n",
    "\n",
    "# Load Hyperparameters\n",
    "folder = \"models/random_forest/hyperparameter/\"\n",
    "fname = f\"{model_run}_{predictor}{str(percentile)[-2:]}.pkl\"\n",
    "\n",
    "with open(f\"{folder}{fname}\", 'rb') as f:\n",
    "    params = pickle.load(f)\n",
    "\n",
    "params\n",
    "# Fit the model\n",
    "model = RandomForestClassifier(criterion='gini',\n",
    "n_estimators=params[\"n_estimators\"], #- nTrees \n",
    "max_depth=params[\"max_depth\"], \n",
    "min_samples_leaf=params[\"min_samples_leaf\"],\n",
    "min_samples_split=params[\"min_samples_split\"],\n",
    "random_state=0, # To compare results when changing hyperparameters\n",
    "class_weight=\"balanced\",\n",
    "oob_score=True,\n",
    ")\n",
    "\n",
    "model.fit(X_train, y_train)\n",
    "#---\n",
    "# Evaluate model / Diagnostic\n",
    "#--- \n",
    "# Score & Importance\n",
    "test_score = model.score(X_test, y_test)\n",
    "train_score = model.score(X_train, y_train)\n",
    "importances = model.feature_importances_\n",
    "\n",
    "print(f\"test_score: {test_score}\")\n",
    "print(f\"train_score: {train_score}\")\n",
    "print(f\"importances: {importances}\")\n",
    "\n",
    "%matplotlib inline\n",
    "#---\n",
    "#  Diagnostics\n",
    "#---\n",
    "\n",
    "# Confusion matrix\n",
    "#---\n",
    "# Format: \n",
    "# Reality / Model: Negative, Positive\n",
    "# Negative    Right Negative, False Positive \n",
    "# Positive    False Negative, Right Positive\n",
    "\n",
    "from sklearn.metrics import confusion_matrix\n",
    "from models import evaluation\n",
    "\n",
    "y_test_pred = model.predict(X_test)\n",
    "\n",
    "cf_matrix = confusion_matrix(y_test, y_test_pred)\n",
    "\n",
    "cfm_fig = evaluation.plot_cf(model, X_test, y_test)\n",
    "metrics = evaluation.cfm_metrics(model, X_test, y_test)\n",
    "\n",
    "# # Save results\n",
    "# folder = \"results/\"\n",
    "# fname = f\"{folder}cf_matrix.png\"\n",
    "# cfm_fig.savefig(fname)"
   ]
  },
  {
   "cell_type": "code",
   "execution_count": null,
   "metadata": {},
   "outputs": [
    {
     "data": {
      "text/plain": [
       "{'min_samples_leaf': 2,\n",
       " 'max_depth': 10,\n",
       " 'min_samples_split': 4,\n",
       " 'n_estimators': 500}"
      ]
     },
     "metadata": {},
     "output_type": "display_data"
    }
   ],
   "source": [
    "#---\n",
    "# Train Model\n",
    "#---\n",
    "from sklearn.model_selection import train_test_split\n",
    "from sklearn.ensemble import RandomForestClassifier\n",
    "import pickle\n",
    "\n",
    "# Train-Test Split\n",
    "X_train, X_test, y_train, y_test = train_test_split(X, y, random_state=0, test_size=0.25)\n",
    "\n",
    "# Load Hyperparameters\n",
    "folder = \"models/random_forest/hyperparameter/\"\n",
    "fname = f\"{model_run}_{predictor}{str(percentile)[-2:]}.pkl\"\n",
    "\n",
    "with open(f\"{folder}{fname}\", 'rb') as f:\n",
    "    params = pickle.load(f)\n",
    "\n",
    "params\n",
    "# Fit the model\n",
    "model = RandomForestClassifier(criterion='gini',\n",
    "n_estimators=params[\"n_estimators\"], #- nTrees \n",
    "max_depth=params[\"max_depth\"], \n",
    "min_samples_leaf=params[\"min_samples_leaf\"],\n",
    "min_samples_split=params[\"min_samples_split\"],\n",
    "random_state=0, # To compare results when changing hyperparameters\n",
    "class_weight=\"balanced\",\n",
    "oob_score=True,\n",
    ")\n",
    "\n",
    "model.fit(X_train, y_train)\n",
    "#---\n",
    "# Evaluate model / Diagnostic\n",
    "#--- \n",
    "# Score & Importance\n",
    "test_score = model.score(X_test, y_test)\n",
    "train_score = model.score(X_train, y_train)\n",
    "importances = model.feature_importances_\n",
    "\n",
    "print(f\"test_score: {test_score}\")\n",
    "print(f\"train_score: {train_score}\")\n",
    "print(f\"importances: {importances}\")\n",
    "\n",
    "%matplotlib inline\n",
    "#---\n",
    "#  Diagnostics\n",
    "#---\n",
    "\n",
    "# Confusion matrix\n",
    "#---\n",
    "# Format: \n",
    "# Reality / Model: Negative, Positive\n",
    "# Negative    Right Negative, False Positive \n",
    "# Positive    False Negative, Right Positive\n",
    "\n",
    "from sklearn.metrics import confusion_matrix\n",
    "from models import evaluation\n",
    "\n",
    "y_test_pred = model.predict(X_test)\n",
    "\n",
    "cf_matrix = confusion_matrix(y_test, y_test_pred)\n",
    "\n",
    "cfm_fig = evaluation.plot_cf(model, X_test, y_test)\n",
    "metrics = evaluation.cfm_metrics(model, X_test, y_test)\n",
    "\n",
    "# # Save results\n",
    "# folder = \"results/\"\n",
    "# fname = f\"{folder}cf_matrix.png\"\n",
    "# cfm_fig.savefig(fname)"
   ]
  },
  {
   "cell_type": "code",
   "execution_count": 4,
   "metadata": {},
   "outputs": [
    {
     "name": "stdout",
     "output_type": "stream",
     "text": [
      "AUC: 0.889637668475407\n"
     ]
    },
    {
     "data": {
      "image/png": "[encoded data removed]",
      "text/plain": [
       "<Figure size 432x288 with 1 Axes>"
      ]
     },
     "metadata": {
      "needs_background": "light"
     },
     "output_type": "display_data"
    }
   ],
   "source": [
    "# AUROC\n",
    "# Receiver Operating Characteristics & Area Under the Curve\n",
    "#---\n",
    "from sklearn.metrics import roc_curve, roc_auc_score\n",
    "import matplotlib.pyplot as plt\n",
    "\n",
    "y_test_proba = model.predict_proba(X_test)[:, 1] # Prob. for predicting 0 or 1, we only need second col\n",
    "\n",
    "fpr, tpr, thresholds = roc_curve(y_test, y_test_proba)\n",
    "auc = roc_auc_score(y_test, y_test_proba)\n",
    "\n",
    "print(f'AUC: {auc}')\n",
    "\n",
    "fig, ax = plt.subplots()\n",
    "\n",
    "plt.plot(fpr, tpr)\n",
    "plt.title(f\"AUROC with AUC = {auc}\")\n",
    "plt.show()"
   ]
  },
  {
   "cell_type": "code",
   "execution_count": null,
   "metadata": {},
   "outputs": [],
   "source": [
    "#--- \n",
    "# Optimization of HP with VC\n",
    "#---\n",
    "from models.random_forest import rf002\n",
    "\n",
    "percentiles = [0.95, 0.99]\n",
    "for percentile in percentiles:\n",
    "    rf002.optimization(percentile)"
   ]
  },
  {
   "cell_type": "code",
   "execution_count": null,
   "metadata": {},
   "outputs": [],
   "source": [
    "#---\n",
    "# Reading hparams from VC and save it\n",
    "#---\n",
    "from models.random_forest import rf002\n",
    "\n",
    "predictor = \"v10\"\n",
    "percentile = 0.95\n",
    "\n",
    "min_samples_leaf = 4\n",
    "max_depth = 10\n",
    "min_samples_split = 4\n",
    "n_estimators = 100\n",
    "\n",
    "hparams = (min_samples_leaf, max_depth, min_samples_split, n_estimators)\n",
    "rf002.save_hp(hparams, predictor, model_run=\"rf002\", percentile=percentile,)"
   ]
  },
  {
   "cell_type": "code",
   "execution_count": null,
   "metadata": {},
   "outputs": [],
   "source": [
    "# Postprocessing"
   ]
  },
  {
   "cell_type": "code",
   "execution_count": 2,
   "metadata": {},
   "outputs": [
    {
     "name": "stdout",
     "output_type": "stream",
     "text": [
      "Load ERA5-Predictor: sp in region: lon-0530_lat7040 for years: 1999-2008 in season: winter\n",
      "Load ERA5-Predictor: u10 in region: lon-0530_lat7040 for years: 1999-2008 in season: winter\n"
     ]
    },
    {
     "data": {
      "image/png": "[encoded data removed]",
      "text/plain": [
       "<Figure size 432x288 with 2 Axes>"
      ]
     },
     "metadata": {
      "needs_background": "light"
     },
     "output_type": "display_data"
    },
    {
     "data": {
      "image/png": "[encoded data removed]",
      "text/plain": [
       "<Figure size 432x288 with 2 Axes>"
      ]
     },
     "metadata": {
      "needs_background": "light"
     },
     "output_type": "display_data"
    }
   ],
   "source": [
    "#---\n",
    "# Visualization\n",
    "#---\n",
    "\n",
    "# Metric: Importance\n",
    "#---\n",
    "from data import preprocessing\n",
    "\n",
    "# Initialize\n",
    "model_run = \"rf003\"\n",
    "predictors = [\"sp\", \"u10\",]\n",
    "percentiles = [0.99,] #0.99,]\n",
    "range_of_years = \"1999-2008\"\n",
    "subregion = \"lon-0530_lat7040\"\n",
    "season = \"winter\"\n",
    "preprocess = \"preprocess1\"\n",
    "\n",
    "for predictor in predictors:\n",
    "    for percentile in percentiles:\n",
    "        # Load importance\n",
    "        folder = f\"results/random_forest/{model_run}/\"\n",
    "        fname = f\"importances_{predictor}{str(percentile)[-2:]}\"\n",
    "        importance = np.load(f\"{folder}{fname}.npy\")\n",
    "\n",
    "        # Load lat lons\n",
    "        lats, lons = preprocessing.get_lonlats(\n",
    "            range_of_years,\n",
    "            subregion,\n",
    "            season,\n",
    "            predictor,\n",
    "            preprocess,\n",
    "        )\n",
    "\n",
    "        # Plot importance-map\n",
    "        from models import evaluation\n",
    "        tflag = f\"{predictor}{str(percentile)[-2:]}\"\n",
    "        fig = evaluation.importance_map(importance, lons, lats, tflag=tflag)\n",
    "\n",
    "        # Save importance-map\n",
    "        folder = f\"results/random_forest/{model_run}/\"\n",
    "        fname = f\"importance_map_{predictor}{str(percentile)[-2:]}\"\n",
    "        fig.savefig(f\"{folder}{fname}.jpg\")"
   ]
  },
  {
   "cell_type": "code",
   "execution_count": null,
   "metadata": {},
   "outputs": [],
   "source": []
  }
 ],
 "metadata": {
  "interpreter": {
   "hash": "dbda0df39e8d9f08c77def502e386bb54b10e33e74098d5a47640c70cb49662a"
  },
  "kernelspec": {
   "display_name": "Python 3.8.12 ('mlpy38')",
   "language": "python",
   "name": "python3"
  },
  "language_info": {
   "codemirror_mode": {
    "name": "ipython",
    "version": 3
   },
   "file_extension": ".py",
   "mimetype": "text/x-python",
   "name": "python",
   "nbconvert_exporter": "python",
   "pygments_lexer": "ipython3",
   "version": "3.8.12"
  },
  "orig_nbformat": 4
 },
 "nbformat": 4,
 "nbformat_minor": 2
}
